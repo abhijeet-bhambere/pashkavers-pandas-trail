{
 "cells": [
  {
   "cell_type": "markdown",
   "id": "165afe4b-04af-43f0-93f9-b0ee79b7e7e9",
   "metadata": {},
   "source": [
    "# Python Crash Course"
   ]
  },
  {
   "cell_type": "markdown",
   "id": "b0d79961",
   "metadata": {},
   "source": [
    "## Comments\n",
    "- A **comment** is a line of text ignored by Python.\n",
    "- Use a hashtag/octothorpe (#) to create a comment."
   ]
  },
  {
   "cell_type": "code",
   "execution_count": 1,
   "id": "5f7086e1-1eb1-482c-a4a0-5fd1869fbc5c",
   "metadata": {
    "tags": []
   },
   "outputs": [
    {
     "data": {
      "text/plain": [
       "2"
      ]
     },
     "execution_count": 1,
     "metadata": {},
     "output_type": "execute_result"
    }
   ],
   "source": [
    "1+1"
   ]
  },
  {
   "cell_type": "markdown",
   "id": "92e4dcbd-ae5d-4fe8-b2c0-c494fb605ca8",
   "metadata": {},
   "source": [
    "## Basic Data Types\n",
    "- An **integer** is a whole number.\n",
    "- A **floating-point** number is one with a fractional or decimal component.\n",
    "- A **string** is a piece of text. It's a collection of characters.\n",
    "- An **empty string** has a length of 0 characters.\n",
    "- A **Boolean** is a type whose value can only be True or False.\n",
    "- **None** is a special Python type that represents nothingness, blankness, or the absence of a value.\n",
    "- The operations that can be performed on a value depend on its type. There are functionalities that we can do with strings but not numbers, and vice versa."
   ]
  },
  {
   "cell_type": "code",
   "execution_count": 2,
   "id": "4bdbe3fa",
   "metadata": {},
   "outputs": [
    {
     "data": {
      "text/plain": [
       "set"
      ]
     },
     "execution_count": 2,
     "metadata": {},
     "output_type": "execute_result"
    }
   ],
   "source": [
    "type(1)\n",
    "type(1.1)\n",
    "type(-1)\n",
    "type(-1.2)\n",
    "type(\"abc\")\n",
    "type([1,2,3])\n",
    "type((2,3))\n",
    "type({1,2})"
   ]
  },
  {
   "cell_type": "code",
   "execution_count": 3,
   "id": "f3fa5ce3",
   "metadata": {},
   "outputs": [
    {
     "data": {
      "text/plain": [
       "30"
      ]
     },
     "execution_count": 3,
     "metadata": {},
     "output_type": "execute_result"
    }
   ],
   "source": [
    "\"race\" + \"car\"\n",
    "10*3"
   ]
  },
  {
   "cell_type": "code",
   "execution_count": 4,
   "id": "261e3b10",
   "metadata": {},
   "outputs": [
    {
     "data": {
      "text/plain": [
       "'ababababab'"
      ]
     },
     "execution_count": 4,
     "metadata": {},
     "output_type": "execute_result"
    }
   ],
   "source": [
    "\"ab\"*5\n"
   ]
  },
  {
   "cell_type": "markdown",
   "id": "3271e1b9",
   "metadata": {},
   "source": [
    "## Operators\n",
    "- An **operator** is a symbol that performs an operation (mathematical, logical, etc).\n",
    "- Python supports all traditional mathematical operation - `+` for addition, `-` for subtraction, `*` for multiplication, and `/` for division.\n",
    "- The floor division operator (`//`) leaves off the floating point portion of a division result.\n",
    "- The `+` operator performs concatenation when used with strings.\n",
    "- The equality operator (`==`) returns True if two values are equal to each other.\n",
    "- The inequality operator (`!=`) returns True if two values are unequal to each other."
   ]
  },
  {
   "cell_type": "code",
   "execution_count": 5,
   "id": "18c1be1f",
   "metadata": {},
   "outputs": [
    {
     "data": {
      "text/plain": [
       "4"
      ]
     },
     "execution_count": 5,
     "metadata": {},
     "output_type": "execute_result"
    }
   ],
   "source": [
    "# PEMDAS\n",
    "3-4+5\n",
    "# is different from \n",
    "# 3 - (4+5) and\n",
    "(3-4) + 5"
   ]
  },
  {
   "cell_type": "code",
   "execution_count": 6,
   "id": "976f03ae-e196-4726-8762-079aa0db7e43",
   "metadata": {
    "tags": []
   },
   "outputs": [
    {
     "data": {
      "text/plain": [
       "7"
      ]
     },
     "execution_count": 6,
     "metadata": {},
     "output_type": "execute_result"
    }
   ],
   "source": [
    "# Division will give ouptut in float\n",
    "15/5\n",
    "15/4\n",
    "# Floor division returns only the non-floating point Or only the non-remainder part\n",
    "15//2"
   ]
  },
  {
   "cell_type": "code",
   "execution_count": 7,
   "id": "66a67875-de12-4f73-a235-8d93472e8599",
   "metadata": {
    "tags": []
   },
   "outputs": [
    {
     "data": {
      "text/plain": [
       "1"
      ]
     },
     "execution_count": 7,
     "metadata": {},
     "output_type": "execute_result"
    }
   ],
   "source": [
    "# Modulo operator returns only the remainder part\n",
    "15%2"
   ]
  },
  {
   "cell_type": "code",
   "execution_count": 8,
   "id": "58b969aa-77b8-4bb9-a108-d345e7fb760c",
   "metadata": {
    "tags": []
   },
   "outputs": [
    {
     "data": {
      "text/plain": [
       "False"
      ]
     },
     "execution_count": 8,
     "metadata": {},
     "output_type": "execute_result"
    }
   ],
   "source": [
    "# Equality operators - logical operators (== /!= / > / >= / < / <= )\n",
    "5==5.0\n",
    "\n",
    "5>=4\n",
    "\n",
    "\"hello\"==\"hi\"\n",
    "\n",
    "\"HELLO\" == \"hello\"\n",
    "\n",
    "\"hello\" == \" hello \""
   ]
  },
  {
   "cell_type": "markdown",
   "id": "a7bc67a9",
   "metadata": {},
   "source": [
    "## Variables\n",
    "- A **variable** is a name for a value in your program. It is a placeholder for the value.\n",
    "- The value that a variable represents can *vary* over a program.\n",
    "- Multi-word variable names should follow a `snake_case` naming convention.\n",
    "- Python evaluates the right-hand side of an equal sign first.\n",
    "- The `len` function returns the length of its argument."
   ]
  },
  {
   "cell_type": "code",
   "execution_count": null,
   "id": "06765506-d200-4b47-a2e4-0e189cd00f89",
   "metadata": {
    "tags": []
   },
   "outputs": [],
   "source": []
  },
  {
   "cell_type": "code",
   "execution_count": null,
   "id": "db847ff6-dc93-4d31-8f80-edc4c1d46221",
   "metadata": {},
   "outputs": [],
   "source": []
  },
  {
   "cell_type": "markdown",
   "id": "42d67a50",
   "metadata": {},
   "source": [
    "## Built-in Functions\n",
    "- A **function** is a repeatable procedure.\n",
    "- A **function** can accept inputs (which are called **arguments**).\n",
    "- A **function** produces a **return value**, which is the \"output\" of the function.\n",
    "- The technical term for running/executing a function is \"invoking\" or \"calling\".\n",
    "- Invoke a function with a pair of parentheses.\n",
    "- The `len` function returns the length of its argument.\n",
    "- The `str` function converts its argument to a string.\n",
    "- The `int` function converts its argument to an integer.\n",
    "- The `float` function converts its argument to a floating-point.\n",
    "- The `type` function returns the type of its argument (the kind of value it is)."
   ]
  },
  {
   "cell_type": "code",
   "execution_count": 9,
   "id": "c876360e-9043-458c-a10e-97815c43eb2f",
   "metadata": {
    "tags": []
   },
   "outputs": [
    {
     "data": {
      "text/plain": [
       "3.0"
      ]
     },
     "execution_count": 9,
     "metadata": {},
     "output_type": "execute_result"
    }
   ],
   "source": [
    "len(\"how you doin'?\")\n",
    "str(3)\n",
    "int(3.9)\n",
    "float(3)"
   ]
  },
  {
   "cell_type": "code",
   "execution_count": 10,
   "id": "54c11642-a975-43c5-938c-83b173c1ef16",
   "metadata": {
    "tags": []
   },
   "outputs": [
    {
     "data": {
      "text/plain": [
       "list"
      ]
     },
     "execution_count": 10,
     "metadata": {},
     "output_type": "execute_result"
    }
   ],
   "source": [
    "type(\"hi\")\n",
    "type([1,2,3,5])"
   ]
  },
  {
   "cell_type": "code",
   "execution_count": null,
   "id": "9c9cad2c-7cb1-48b4-a377-b44087847b2b",
   "metadata": {},
   "outputs": [],
   "source": []
  },
  {
   "cell_type": "markdown",
   "id": "cf976284",
   "metadata": {},
   "source": [
    "## Custom Functions\n",
    "- Define a function with the `def` keyword, a name, a parameter list, and a colon.\n",
    "- Functions names should follow a `snake_case` naming convention.\n",
    "- A **parameter** is a name for an expected input.\n",
    "- Write the function's logic inside a nested block. The end of the block marks the end of the function logic.\n",
    "- Variables declared inside a function body will only last as long as the function runs.\n",
    "- Use the **return** keyword to specify the function's return value (output).\n",
    "- When invoking a function, we can pass in argument sequentially or with explicit parameter names.\n",
    "- A **default argument** is a fallback value that Python will provide if an argument is not passed for a parameter during invocation."
   ]
  },
  {
   "cell_type": "code",
   "execution_count": 11,
   "id": "5b251bcf",
   "metadata": {},
   "outputs": [],
   "source": [
    "def degc_degf(degc):\n",
    "    '''Enter the degC value'''\n",
    "    if (type(degc) is int) or (type(degc) is float):\n",
    "        degf = (degc * 2.8) + 32\n",
    "        # Using f-string to insert variable values\n",
    "        print(f'Converted value of {degc}\\N{DEGREE SIGN}C is {degf}\\N{DEGREE SIGN}F ')\n",
    "        return degf\n",
    "    else:\n",
    "        return print(f\"{degc} is invalid input. enter numeric value\")"
   ]
  },
  {
   "cell_type": "code",
   "execution_count": 12,
   "id": "50ef6f0a-a9d2-4e03-8c2a-570246d34729",
   "metadata": {},
   "outputs": [
    {
     "name": "stdout",
     "output_type": "stream",
     "text": [
      "3 is invalid input. enter numeric value\n"
     ]
    }
   ],
   "source": [
    "degc_degf(\"3\")"
   ]
  },
  {
   "cell_type": "code",
   "execution_count": 13,
   "id": "56b074bc-6296-43a1-8d0b-317685d9972c",
   "metadata": {},
   "outputs": [
    {
     "name": "stdout",
     "output_type": "stream",
     "text": [
      "Converted value of 0°C is 32.0°F \n"
     ]
    },
    {
     "data": {
      "text/plain": [
       "32.0"
      ]
     },
     "execution_count": 13,
     "metadata": {},
     "output_type": "execute_result"
    }
   ],
   "source": [
    "degc_degf(0)"
   ]
  },
  {
   "cell_type": "code",
   "execution_count": 14,
   "id": "1c2c70f9-1d83-45c7-89c2-b507a634592c",
   "metadata": {},
   "outputs": [],
   "source": [
    "def easy_money():\n",
    "    return 100"
   ]
  },
  {
   "cell_type": "code",
   "execution_count": 15,
   "id": "6de629c2",
   "metadata": {},
   "outputs": [
    {
     "data": {
      "text/plain": [
       "100"
      ]
     },
     "execution_count": 15,
     "metadata": {},
     "output_type": "execute_result"
    }
   ],
   "source": [
    "easy_money()"
   ]
  },
  {
   "cell_type": "code",
   "execution_count": null,
   "id": "b09d7e78-ab58-4597-bff7-b2f498129d94",
   "metadata": {},
   "outputs": [],
   "source": []
  },
  {
   "cell_type": "markdown",
   "id": "7875f148",
   "metadata": {},
   "source": [
    "## String Methods\n",
    "- An **object** is the technical term for a type. A string is an example of an object.\n",
    "- A **method** is like a function that belongs to an object.\n",
    "- To invoke a method, provide a period after the object, then the method name and a pair of parentheses.\n",
    "- We use similar terminology and syntax for functions and methods. We can invoke methods. We can pass arguments to methods. Methods can return values.\n",
    "- Objects can be **mutable** (capable of change) or **immutable** (incapable of change). A string is immutable.\n",
    "- Common string methods include `upper`, `lower`, `swapcase`, `title`, `capitalize`, and `strip`.\n",
    "- **Method chaining** refers to invoking methods on objects returned by previous method invocations. We create a link or \"chain\" of methods.\n",
    "- The **in** and **not in** keywords check for the presence and absence of a substring within a string."
   ]
  },
  {
   "cell_type": "markdown",
   "id": "c72ead4b",
   "metadata": {},
   "source": [
    "_A `function` can be called without being associated to an object or class._<br>\n",
    "<br>\n",
    "_A `method` is called on an object. It has to be bound to its relevant object in order for it to return an output._"
   ]
  },
  {
   "cell_type": "code",
   "execution_count": 16,
   "id": "dc957854-a26c-4e7f-86bf-7d751f8529e8",
   "metadata": {},
   "outputs": [],
   "source": [
    "astring = \"This is python\""
   ]
  },
  {
   "cell_type": "code",
   "execution_count": 17,
   "id": "b1a69a51-ec83-49fa-8488-d3079fbde6cc",
   "metadata": {},
   "outputs": [
    {
     "data": {
      "text/plain": [
       "'THIS IS PYTHON'"
      ]
     },
     "execution_count": 17,
     "metadata": {},
     "output_type": "execute_result"
    }
   ],
   "source": [
    "astring.title()\n",
    "\n",
    "astring.capitalize()\n",
    "\n",
    "astring.upper()"
   ]
  },
  {
   "cell_type": "code",
   "execution_count": 18,
   "id": "0db7878e",
   "metadata": {},
   "outputs": [
    {
     "data": {
      "text/plain": [
       "'that is python'"
      ]
     },
     "execution_count": 18,
     "metadata": {},
     "output_type": "execute_result"
    }
   ],
   "source": [
    "astring.replace(\"This\",\"that\")"
   ]
  },
  {
   "cell_type": "code",
   "execution_count": 19,
   "id": "0af3c3a5-e09b-4213-8bf8-a08ddb105b22",
   "metadata": {},
   "outputs": [
    {
     "data": {
      "text/plain": [
       "'This is python'"
      ]
     },
     "execution_count": 19,
     "metadata": {},
     "output_type": "execute_result"
    }
   ],
   "source": [
    "# However , Note that No changes are made to the original variable. It remains unmodified unless the change is re-assigned that variable\n",
    "astring"
   ]
  },
  {
   "cell_type": "code",
   "execution_count": 20,
   "id": "ec16e8a0-0cdc-46d3-ac0d-7227c54a4b1b",
   "metadata": {},
   "outputs": [
    {
     "data": {
      "text/plain": [
       "False"
      ]
     },
     "execution_count": 20,
     "metadata": {},
     "output_type": "execute_result"
    }
   ],
   "source": [
    "# Check if a character or string exists in a string\n",
    "\"This\" in astring\n",
    "# Note that it is case-sensitive\n",
    "\"this\" in astring"
   ]
  },
  {
   "cell_type": "code",
   "execution_count": 21,
   "id": "6f9dc984-440b-4bce-a8e3-1b36b86c5ac3",
   "metadata": {},
   "outputs": [
    {
     "data": {
      "text/plain": [
       "False"
      ]
     },
     "execution_count": 21,
     "metadata": {},
     "output_type": "execute_result"
    }
   ],
   "source": [
    "\"that\" not in astring\n",
    "\"that\" in astring"
   ]
  },
  {
   "cell_type": "code",
   "execution_count": 22,
   "id": "0f01657d-5a9a-4a8d-82fb-4f259d1622a0",
   "metadata": {},
   "outputs": [],
   "source": [
    "bstring = \"  This is python  \""
   ]
  },
  {
   "cell_type": "code",
   "execution_count": 23,
   "id": "da6dbcb2",
   "metadata": {},
   "outputs": [
    {
     "data": {
      "text/plain": [
       "'This is python'"
      ]
     },
     "execution_count": 23,
     "metadata": {},
     "output_type": "execute_result"
    }
   ],
   "source": [
    "bstring.strip()"
   ]
  },
  {
   "cell_type": "markdown",
   "id": "56ea194e",
   "metadata": {},
   "source": [
    "## Lists\n",
    "- A **list** is a mutable data structure that holds an ordered collection of values.\n",
    "- We often use the term **element** to describe an item in the list.\n",
    "- The length of a list is its number of elements.\n",
    "- The **append** method adds an element to the end of the list.\n",
    "- The **pop** methods remove the last element from the list.\n",
    "- The **in** and **not in** keywords check whether or not an element exists within a list."
   ]
  },
  {
   "cell_type": "code",
   "execution_count": 24,
   "id": "5f022822-f353-4e94-8103-c1bf6996aa09",
   "metadata": {},
   "outputs": [],
   "source": [
    "this_list = [\"Jim\",\"Jack\"]"
   ]
  },
  {
   "cell_type": "code",
   "execution_count": 25,
   "id": "d52fa46c-f491-4d1d-af45-b321dbbbf19d",
   "metadata": {},
   "outputs": [
    {
     "data": {
      "text/plain": [
       "2"
      ]
     },
     "execution_count": 25,
     "metadata": {},
     "output_type": "execute_result"
    }
   ],
   "source": [
    "len(this_list)"
   ]
  },
  {
   "cell_type": "markdown",
   "id": "54282e05",
   "metadata": {},
   "source": [
    "### `.append` - Adding an element to a list"
   ]
  },
  {
   "cell_type": "code",
   "execution_count": 26,
   "id": "52960ad6-0956-43f8-8c4f-69dbaa4cd63e",
   "metadata": {},
   "outputs": [
    {
     "data": {
      "text/plain": [
       "['Jim', 'Jack', 'Jake']"
      ]
     },
     "execution_count": 26,
     "metadata": {},
     "output_type": "execute_result"
    }
   ],
   "source": [
    "this_list.append(\"Jake\")\n",
    "this_list"
   ]
  },
  {
   "cell_type": "code",
   "execution_count": 27,
   "id": "7227482d",
   "metadata": {},
   "outputs": [
    {
     "data": {
      "text/plain": [
       "['Jim', 'Jack', 'Jake']"
      ]
     },
     "execution_count": 27,
     "metadata": {},
     "output_type": "execute_result"
    }
   ],
   "source": [
    "this_list"
   ]
  },
  {
   "cell_type": "markdown",
   "id": "dc873517",
   "metadata": {},
   "source": [
    "### `.pop` - Removes the last element from a list "
   ]
  },
  {
   "cell_type": "code",
   "execution_count": 28,
   "id": "94b88a57-3a02-42df-9fd7-6683adf57312",
   "metadata": {},
   "outputs": [
    {
     "data": {
      "text/plain": [
       "'Jake'"
      ]
     },
     "execution_count": 28,
     "metadata": {},
     "output_type": "execute_result"
    }
   ],
   "source": [
    "this_list.pop()"
   ]
  },
  {
   "cell_type": "code",
   "execution_count": 29,
   "id": "8a47e35b-d76d-4c6e-848f-c804aa41a59c",
   "metadata": {},
   "outputs": [
    {
     "data": {
      "text/plain": [
       "['Jim', 'Jack']"
      ]
     },
     "execution_count": 29,
     "metadata": {},
     "output_type": "execute_result"
    }
   ],
   "source": [
    "this_list"
   ]
  },
  {
   "cell_type": "code",
   "execution_count": 30,
   "id": "02c866fa-6d52-41aa-a151-e32c177ad109",
   "metadata": {},
   "outputs": [],
   "source": [
    "eg_string = \"something\""
   ]
  },
  {
   "cell_type": "markdown",
   "id": "53835aad",
   "metadata": {},
   "source": [
    "#### A sample loop that takes a string, splits it into List elements"
   ]
  },
  {
   "cell_type": "code",
   "execution_count": 31,
   "id": "efadfcdb-d9e7-4d05-8337-6f429e3d5096",
   "metadata": {},
   "outputs": [
    {
     "name": "stdout",
     "output_type": "stream",
     "text": [
      "['s', 'o', 'm', 'e', 't', 'h', 'i', 'n', 'g']\n"
     ]
    }
   ],
   "source": [
    "somelist = []\n",
    "for each in eg_string:\n",
    "    somelist.append(each)\n",
    "print(somelist)"
   ]
  },
  {
   "cell_type": "code",
   "execution_count": null,
   "id": "ef6e3b09-5a5b-4bac-9933-cebf263318ae",
   "metadata": {},
   "outputs": [],
   "source": []
  },
  {
   "cell_type": "markdown",
   "id": "39e4d0be",
   "metadata": {},
   "source": [
    "## Index Positions and Slicing\n",
    "- Python assigns every string character an **index position** (an order in line).\n",
    "- Python assigns every list element an **index position** (an order in line).\n",
    "- The index starts counting at 0.\n",
    "- Use square brackets to extract a character/element by index position.\n",
    "- Use negative values to extract a character/element relative to the end of the object.\n",
    "- Use slicing to extract multiple character/elements.\n",
    "- The first index in a slice is inclusive. The second index in a slice is exclusive (Python will go up to that index but *not* include its value)."
   ]
  },
  {
   "cell_type": "code",
   "execution_count": 33,
   "id": "ffae0b9a-bdba-436d-a4c7-38742c82e933",
   "metadata": {},
   "outputs": [],
   "source": [
    "# Index positions\n",
    "a_list = [\"a\",\"b\",\"c\",\"d\",\"e\",\"f\"]"
   ]
  },
  {
   "cell_type": "code",
   "execution_count": 37,
   "id": "518960ba",
   "metadata": {},
   "outputs": [
    {
     "data": {
      "text/plain": [
       "'d'"
      ]
     },
     "execution_count": 37,
     "metadata": {},
     "output_type": "execute_result"
    }
   ],
   "source": [
    "a_list[0]\n",
    "a_list[2]\n",
    "a_list[-1]\n",
    "a_list[-3]"
   ]
  },
  {
   "cell_type": "code",
   "execution_count": 77,
   "id": "ed2270a6",
   "metadata": {},
   "outputs": [
    {
     "data": {
      "text/plain": [
       "['b', 'd', 'f']"
      ]
     },
     "execution_count": 77,
     "metadata": {},
     "output_type": "execute_result"
    }
   ],
   "source": [
    "# Slicing a list - fetching a range of values from a list\n",
    "a_list[0:3]\n",
    "# M to N-1 values\n",
    "\n",
    "# Using steps when slicing a List\n",
    "# Fetching values in even indexes\n",
    "a_list[0::2]\n",
    "# Fetching values in odd indexes\n",
    "a_list[1::2]"
   ]
  },
  {
   "cell_type": "code",
   "execution_count": 78,
   "id": "79efcca9-ef05-4027-8abb-81d7b11e4d17",
   "metadata": {},
   "outputs": [
    {
     "data": {
      "text/plain": [
       "['f', 'e', 'd', 'c', 'b', 'a']"
      ]
     },
     "execution_count": 78,
     "metadata": {},
     "output_type": "execute_result"
    }
   ],
   "source": [
    "# Fetching all values but in reverse order\n",
    "a_list[::-1]"
   ]
  },
  {
   "cell_type": "code",
   "execution_count": 79,
   "id": "6ca83f7e-b500-40bd-b778-3fb338729ae9",
   "metadata": {},
   "outputs": [
    {
     "data": {
      "text/plain": [
       "'oehn'"
      ]
     },
     "execution_count": 79,
     "metadata": {},
     "output_type": "execute_result"
    }
   ],
   "source": [
    "# Slicing in strings\n",
    "eg_string[0]\n",
    "# Obtain the string but in reverse\n",
    "eg_string[::-1]\n",
    "eg_string[::2]\n",
    "eg_string[1::2]\n"
   ]
  },
  {
   "cell_type": "code",
   "execution_count": 5,
   "id": "5aa278fb",
   "metadata": {},
   "outputs": [],
   "source": [
    "super_heroes = [\"batman\",\"superman\",\"wolverine\",\"spiderman\",\"deadpool\",\"john wick\",\"iron man\",\"thor\",\"captain america\",\"nick fury\"]"
   ]
  },
  {
   "cell_type": "code",
   "execution_count": 6,
   "id": "dfd3c352",
   "metadata": {},
   "outputs": [
    {
     "data": {
      "text/plain": [
       "'nick fury'"
      ]
     },
     "execution_count": 6,
     "metadata": {},
     "output_type": "execute_result"
    }
   ],
   "source": [
    "super_heroes[2]\n",
    "super_heroes[-1]"
   ]
  },
  {
   "cell_type": "code",
   "execution_count": 7,
   "id": "c3bf6fbf",
   "metadata": {},
   "outputs": [
    {
     "data": {
      "text/plain": [
       "['spiderman',\n",
       " 'deadpool',\n",
       " 'john wick',\n",
       " 'iron man',\n",
       " 'thor',\n",
       " 'captain america',\n",
       " 'nick fury']"
      ]
     },
     "execution_count": 7,
     "metadata": {},
     "output_type": "execute_result"
    }
   ],
   "source": [
    "super_heroes[3:]"
   ]
  },
  {
   "cell_type": "code",
   "execution_count": 8,
   "id": "9b079c01",
   "metadata": {},
   "outputs": [
    {
     "data": {
      "text/plain": [
       "10"
      ]
     },
     "execution_count": 8,
     "metadata": {},
     "output_type": "execute_result"
    }
   ],
   "source": [
    "len(super_heroes)"
   ]
  },
  {
   "cell_type": "markdown",
   "id": "5c6d2c57",
   "metadata": {},
   "source": [
    "#### Check if a value exists in a List"
   ]
  },
  {
   "cell_type": "code",
   "execution_count": 27,
   "id": "d6cd7e1c",
   "metadata": {},
   "outputs": [
    {
     "data": {
      "text/plain": [
       "False"
      ]
     },
     "execution_count": 27,
     "metadata": {},
     "output_type": "execute_result"
    }
   ],
   "source": [
    "\"superman\" in super_heroes\n",
    "\"aquaman\" in super_heroes"
   ]
  },
  {
   "cell_type": "markdown",
   "id": "d6aa11e9",
   "metadata": {},
   "source": [
    "___\n",
    "### `.append` method to add to the end of the list (at index -1)"
   ]
  },
  {
   "cell_type": "code",
   "execution_count": 28,
   "id": "6b1e8742",
   "metadata": {},
   "outputs": [],
   "source": [
    "super_heroes.append(\"dr strange\")"
   ]
  },
  {
   "cell_type": "code",
   "execution_count": 29,
   "id": "139dcdd2",
   "metadata": {},
   "outputs": [
    {
     "data": {
      "text/plain": [
       "['batman',\n",
       " 'superman',\n",
       " 'wolverine',\n",
       " 'spiderman',\n",
       " 'deadpool',\n",
       " 'john wick',\n",
       " 'iron man',\n",
       " 'thor',\n",
       " 'captain america',\n",
       " 'nick fury',\n",
       " 'dr strange']"
      ]
     },
     "execution_count": 29,
     "metadata": {},
     "output_type": "execute_result"
    }
   ],
   "source": [
    "super_heroes"
   ]
  },
  {
   "cell_type": "markdown",
   "id": "c430eed6",
   "metadata": {},
   "source": [
    "### `insert` method to add at a specific index location\n"
   ]
  },
  {
   "cell_type": "code",
   "execution_count": 31,
   "id": "8ffec0d2",
   "metadata": {},
   "outputs": [],
   "source": [
    "super_heroes.insert(2,\"green arrow\")"
   ]
  },
  {
   "cell_type": "markdown",
   "id": "4d062c7a",
   "metadata": {},
   "source": [
    "#### we can see \"Green Arrow\" added at index position `2`"
   ]
  },
  {
   "cell_type": "code",
   "execution_count": 33,
   "id": "34d5dcdf",
   "metadata": {},
   "outputs": [
    {
     "data": {
      "text/plain": [
       "['batman',\n",
       " 'superman',\n",
       " 'green arrow',\n",
       " 'wolverine',\n",
       " 'spiderman',\n",
       " 'deadpool',\n",
       " 'john wick',\n",
       " 'iron man',\n",
       " 'thor',\n",
       " 'captain america',\n",
       " 'nick fury',\n",
       " 'dr strange']"
      ]
     },
     "execution_count": 33,
     "metadata": {},
     "output_type": "execute_result"
    }
   ],
   "source": [
    "super_heroes"
   ]
  },
  {
   "cell_type": "markdown",
   "id": "209b8921",
   "metadata": {},
   "source": [
    "____\n",
    "## Dictionaries\n",
    "- A **dictionary** is a mutable, unordered collection of key-value pairs.\n",
    "- A **key** is a unique identifier for a value.\n",
    "- A **value** corresponds to the key. The values can contain duplicates.\n",
    "- Use a dictionary for **association** (i.e., to connect/map two values together). Use a list for **order**.\n",
    "- Declare a dictionary with a pair of curly braces.\n",
    "- Write a colon between every key and value.\n",
    "- Separate each key-value pair with a comma and a space.\n",
    "- The length of a dictionary is a count of its key-value pairs."
   ]
  },
  {
   "cell_type": "code",
   "execution_count": 9,
   "id": "8268bf89-5e60-428d-ad02-bde28a70b0c7",
   "metadata": {},
   "outputs": [],
   "source": [
    "a_dict = {\"apples\":200,\"oranges\":250,\"lemons\":150,\"grapes\":250,\"pears\":300}"
   ]
  },
  {
   "cell_type": "code",
   "execution_count": 20,
   "id": "81c780ad",
   "metadata": {},
   "outputs": [
    {
     "data": {
      "text/plain": [
       "{'apples': 200, 'oranges': 250, 'lemons': 150, 'grapes': 250, 'pears': 300}"
      ]
     },
     "execution_count": 20,
     "metadata": {},
     "output_type": "execute_result"
    }
   ],
   "source": [
    "a_dict"
   ]
  },
  {
   "cell_type": "code",
   "execution_count": 21,
   "id": "c7cf377b-63d9-4294-8042-273574023a10",
   "metadata": {},
   "outputs": [
    {
     "data": {
      "text/plain": [
       "5"
      ]
     },
     "execution_count": 21,
     "metadata": {},
     "output_type": "execute_result"
    }
   ],
   "source": [
    "len(a_dict)"
   ]
  },
  {
   "cell_type": "code",
   "execution_count": 22,
   "id": "b509546c-472e-4395-a553-5a478cfd76ea",
   "metadata": {},
   "outputs": [
    {
     "data": {
      "text/plain": [
       "250"
      ]
     },
     "execution_count": 22,
     "metadata": {},
     "output_type": "execute_result"
    }
   ],
   "source": [
    "a_dict[\"grapes\"]"
   ]
  },
  {
   "cell_type": "markdown",
   "id": "480de088",
   "metadata": {},
   "source": [
    "### Example to find keys holding a particular value. use of the `.items()` method"
   ]
  },
  {
   "cell_type": "code",
   "execution_count": 24,
   "id": "e5bd4afb-aef1-41f2-bcda-95a53851ada0",
   "metadata": {},
   "outputs": [],
   "source": [
    "my_dict = {'apple': 2, 'banana': 2, 'cherry': 3, 'date': 2}"
   ]
  },
  {
   "cell_type": "code",
   "execution_count": 25,
   "id": "94bda613-294e-4176-a909-7d8a81b8db5d",
   "metadata": {},
   "outputs": [
    {
     "name": "stdout",
     "output_type": "stream",
     "text": [
      "Keys for value 2: ['apple', 'banana', 'date']\n"
     ]
    }
   ],
   "source": [
    "value_to_find = 2\n",
    "\n",
    "keys_found = []\n",
    "for key, value in my_dict.items():\n",
    "    if value == value_to_find:\n",
    "        keys_found.append(key)\n",
    "\n",
    "if keys_found:\n",
    "    print(f\"Keys for value {value_to_find}: {keys_found}\")\n",
    "else:\n",
    "    print(\"Value not found in the dictionary.\")"
   ]
  },
  {
   "cell_type": "markdown",
   "id": "a5ba5bc5",
   "metadata": {},
   "source": [
    "### Adding a new `key-value` pair to the dict"
   ]
  },
  {
   "cell_type": "code",
   "execution_count": 36,
   "id": "e9fd852f",
   "metadata": {},
   "outputs": [],
   "source": [
    "my_dict[\"pear\"]=5"
   ]
  },
  {
   "cell_type": "code",
   "execution_count": 37,
   "metadata": {},
   "outputs": [
    {
     "data": {
      "text/plain": [
       "{'apple': 2, 'banana': 2, 'cherry': 3, 'date': 2, 'pear': 5}"
      ]
     },
     "execution_count": 37,
     "metadata": {},
     "output_type": "execute_result"
    }
   ],
   "source": [
    "my_dict"
   ]
  },
  {
   "cell_type": "markdown",
   "id": "2783551e",
   "metadata": {},
   "source": [
    "### Re-assigning a value for an existing key"
   ]
  },
  {
   "cell_type": "code",
   "execution_count": 38,
   "id": "8c52679c-7243-4bcc-a0da-295edadfd5d8",
   "metadata": {},
   "outputs": [],
   "source": [
    "my_dict[\"apple\"] = 6"
   ]
  },
  {
   "cell_type": "code",
   "execution_count": 39,
   "id": "d16a03ed-0792-4e03-928a-ed2b4a602e57",
   "metadata": {},
   "outputs": [
    {
     "data": {
      "text/plain": [
       "{'apple': 6, 'banana': 2, 'cherry': 3, 'date': 2, 'pear': 5}"
      ]
     },
     "execution_count": 39,
     "metadata": {},
     "output_type": "execute_result"
    }
   ],
   "source": [
    "my_dict"
   ]
  },
  {
   "cell_type": "markdown",
   "id": "14098bd8",
   "metadata": {},
   "source": [
    "### `pop` method to remove a `key-value` pair"
   ]
  },
  {
   "cell_type": "code",
   "execution_count": 40,
   "id": "efb57b4e-38f5-40d7-bfef-87ef3f633aa6",
   "metadata": {},
   "outputs": [
    {
     "data": {
      "text/plain": [
       "5"
      ]
     },
     "execution_count": 40,
     "metadata": {},
     "output_type": "execute_result"
    }
   ],
   "source": [
    "my_dict.pop(\"pear\")  "
   ]
  },
  {
   "cell_type": "code",
   "execution_count": 41,
   "id": "9f0b28be-b0b3-4fb2-b0a8-cc2251babe98",
   "metadata": {},
   "outputs": [
    {
     "data": {
      "text/plain": [
       "{'apple': 6, 'banana': 2, 'cherry': 3, 'date': 2}"
      ]
     },
     "execution_count": 41,
     "metadata": {},
     "output_type": "execute_result"
    }
   ],
   "source": [
    "my_dict"
   ]
  },
  {
   "cell_type": "markdown",
   "id": "db79037e",
   "metadata": {},
   "source": [
    "### Check if a particular `key` exists within a dict"
   ]
  },
  {
   "cell_type": "code",
   "execution_count": 42,
   "id": "3af08c01-a6f2-49df-86a4-04b05df38f26",
   "metadata": {},
   "outputs": [
    {
     "data": {
      "text/plain": [
       "False"
      ]
     },
     "execution_count": 42,
     "metadata": {},
     "output_type": "execute_result"
    }
   ],
   "source": [
    "\"grape\" in my_dict"
   ]
  },
  {
   "cell_type": "code",
   "execution_count": 43,
   "id": "8a248c07-5556-4029-b7a6-0fdcda1ed597",
   "metadata": {},
   "outputs": [
    {
     "data": {
      "text/plain": [
       "True"
      ]
     },
     "execution_count": 43,
     "metadata": {},
     "output_type": "execute_result"
    }
   ],
   "source": [
    "\"apple\" in my_dict"
   ]
  },
  {
   "cell_type": "markdown",
   "id": "1c00efd2",
   "metadata": {},
   "source": [
    "### Check if a `value` exists in a dict"
   ]
  },
  {
   "cell_type": "code",
   "execution_count": 44,
   "id": "12ec3ef8-3201-41e7-ac65-17aa58a14c93",
   "metadata": {},
   "outputs": [
    {
     "data": {
      "text/plain": [
       "True"
      ]
     },
     "execution_count": 44,
     "metadata": {},
     "output_type": "execute_result"
    }
   ],
   "source": [
    "6 in my_dict.values()"
   ]
  },
  {
   "cell_type": "code",
   "execution_count": 45,
   "id": "a18bb24e-cf04-44f0-9dcd-f9c9f2a336b8",
   "metadata": {},
   "outputs": [
    {
     "data": {
      "text/plain": [
       "False"
      ]
     },
     "execution_count": 45,
     "metadata": {},
     "output_type": "execute_result"
    }
   ],
   "source": [
    "15 in my_dict.values()"
   ]
  },
  {
   "cell_type": "markdown",
   "id": "4e6e0403",
   "metadata": {},
   "source": [
    "### Some other useful methods"
   ]
  },
  {
   "cell_type": "code",
   "execution_count": 50,
   "id": "2b4a718e-5196-497a-b60e-dcffa0e0f165",
   "metadata": {},
   "outputs": [
    {
     "data": {
      "text/plain": [
       "dict_values([6, 2, 3, 2])"
      ]
     },
     "execution_count": 50,
     "metadata": {},
     "output_type": "execute_result"
    }
   ],
   "source": [
    "my_dict.items()\n",
    "my_dict.values()"
   ]
  },
  {
   "cell_type": "code",
   "execution_count": null,
   "id": "34eefda4-bc68-4661-8f3b-281f16006127",
   "metadata": {},
   "outputs": [],
   "source": []
  },
  {
   "cell_type": "markdown",
   "id": "f266aada-0759-4373-8874-7a6080a6a1a2",
   "metadata": {},
   "source": [
    "___\n",
    "## Classes\n",
    "- A **class** is a blueprint/template for creating objects.\n",
    "- A **class** defines the methods/functionalities that objects made from it will have.\n",
    "- An object is called an **instance** of the class it is made from.\n",
    "- The act of creating an object from a class is called **instantiation**.\n",
    "- Every time we've worked with a Python object, it's been \"instantiated\" from a class.\n",
    "- In real world terms, a class is the blueprint and the house we build is the instance/object.\n",
    "- Syntax options like `\"\"` or `[]` or `{}` are shortcuts for instantiation.\n",
    "- For other classes, we'll need to use `class()` syntax to instantiate an object.\n",
    "- Much like functions and methods, some class instantiations will require arguments."
   ]
  },
  {
   "cell_type": "markdown",
   "id": "a62a901f-1f47-4682-925b-1564312e1fc2",
   "metadata": {
    "tags": []
   },
   "source": [
    "<img src=\"Blueprint.png\" width=\"600\" height=\"410\">"
   ]
  },
  {
   "cell_type": "markdown",
   "id": "40053702-9cb6-4f86-a03e-84fa97fb8b4e",
   "metadata": {},
   "source": [
    "## Navigating Libraries using Jupyter Lab"
   ]
  },
  {
   "cell_type": "code",
   "execution_count": 1,
   "id": "a6b95663-b6cf-426a-8464-349813fbe947",
   "metadata": {},
   "outputs": [],
   "source": [
    "import pandas as pd"
   ]
  },
  {
   "cell_type": "code",
   "execution_count": null,
   "id": "4d7ed499-dac8-4cfd-888f-e1c0491e8c2d",
   "metadata": {},
   "outputs": [],
   "source": []
  },
  {
   "cell_type": "code",
   "execution_count": null,
   "id": "10c45fb2-606a-48a3-a5b9-dd84c48fe090",
   "metadata": {},
   "outputs": [],
   "source": []
  },
  {
   "cell_type": "code",
   "execution_count": null,
   "id": "81ead5c9-db76-445d-937e-fb4ab925eef6",
   "metadata": {},
   "outputs": [],
   "source": []
  }
 ],
 "metadata": {
  "kernelspec": {
   "display_name": ".venv",
   "language": "python",
   "name": "python3"
  },
  "language_info": {
   "codemirror_mode": {
    "name": "ipython",
    "version": 3
   },
   "file_extension": ".py",
   "mimetype": "text/x-python",
   "name": "python",
   "nbconvert_exporter": "python",
   "pygments_lexer": "ipython3",
   "version": "3.13.1"
  }
 },
 "nbformat": 4,
 "nbformat_minor": 5
}
