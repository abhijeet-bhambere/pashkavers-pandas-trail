{
 "cells": [
  {
   "cell_type": "markdown",
   "metadata": {},
   "source": [
    "# Working with Dates and Times"
   ]
  },
  {
   "cell_type": "code",
   "execution_count": 3,
   "metadata": {
    "scrolled": true
   },
   "outputs": [],
   "source": [
    "import pandas as pd\n",
    "import datetime as dt"
   ]
  },
  {
   "cell_type": "markdown",
   "metadata": {},
   "source": [
    "## Review of Python's datetime Module\n",
    "- The `datetime` module is built into the core Python programming language.\n",
    "- The common alias for the `datetime` module is `dt`.\n",
    "- A module is a Python source file; think of like an internal library that Python loads on demand.\n",
    "- The `datetime` module includes `date` and `datetime` classes for representing dates and datetimes.\n",
    "- The `date` constructor accepts arguments for year, month, and day. Python defaults to 0 for any missing values.\n",
    "- The `datetime` constructor accepts arguments for year, month, day, hour, minute, and second."
   ]
  },
  {
   "cell_type": "code",
   "execution_count": 8,
   "metadata": {},
   "outputs": [
    {
     "data": {
      "text/plain": [
       "Timestamp('2025-05-05 15:30:00')"
      ]
     },
     "execution_count": 8,
     "metadata": {},
     "output_type": "execute_result"
    }
   ],
   "source": [
    "pd.Timestamp(2025,5,5)\n",
    "pd.Timestamp(2025,5,5,15,30,00)"
   ]
  },
  {
   "cell_type": "code",
   "execution_count": 13,
   "metadata": {},
   "outputs": [
    {
     "data": {
      "text/plain": [
       "Timestamp('2025-05-05 14:30:00')"
      ]
     },
     "execution_count": 13,
     "metadata": {},
     "output_type": "execute_result"
    }
   ],
   "source": [
    "# We can also pass a python datetime object\n",
    "pd.Timestamp(dt.date(2025,5,5))\n",
    "pd.Timestamp(dt.datetime(2025,5,5,14,30))"
   ]
  },
  {
   "cell_type": "code",
   "execution_count": 17,
   "metadata": {},
   "outputs": [
    {
     "data": {
      "text/plain": [
       "Timestamp('2025-05-05 15:30:20')"
      ]
     },
     "execution_count": 17,
     "metadata": {},
     "output_type": "execute_result"
    }
   ],
   "source": [
    "pd.Timestamp(\"2025-05-05\")\n",
    "pd.Timestamp(\"2025/05/05\")\n",
    "pd.Timestamp(\"2025-05-05 15:30:20\")"
   ]
  },
  {
   "cell_type": "markdown",
   "metadata": {},
   "source": [
    "##### Loading `timestamp` object into a series"
   ]
  },
  {
   "cell_type": "code",
   "execution_count": null,
   "metadata": {},
   "outputs": [
    {
     "data": {
      "text/plain": [
       "0   2025-05-05 15:30:20\n",
       "dtype: datetime64[ns]"
      ]
     },
     "execution_count": 18,
     "metadata": {},
     "output_type": "execute_result"
    }
   ],
   "source": [
    "pd.Series(pd.Timestamp(\"2025-05-05 15:30:20\"))"
   ]
  },
  {
   "cell_type": "markdown",
   "metadata": {},
   "source": [
    "## The Timestamp and DatetimeIndex Objects\n",
    "\n",
    "- Pandas ships with several classes related to datetimes.\n",
    "- The **Timestamp** is similar to Python's **datetime** object (but with expanded functionality).\n",
    "- A **DatetimeIndex** is an index of **Timestamp** objects.\n",
    "- The **Timestamp** constructor accepts a string, a **datetime** object, or equivalent arguments to the **datetime** clas."
   ]
  },
  {
   "cell_type": "code",
   "execution_count": 20,
   "metadata": {
    "scrolled": true
   },
   "outputs": [
    {
     "data": {
      "text/plain": [
       "DatetimeIndex(['2025-05-05', '2025-03-20', '2025-01-10'], dtype='datetime64[ns]', freq=None)"
      ]
     },
     "execution_count": 20,
     "metadata": {},
     "output_type": "execute_result"
    }
   ],
   "source": [
    "# When a timestamp is used as an index to a dataframe\n",
    "pd.DatetimeIndex([\"2025-05-05\",\"2025-03-20\",\"2025-01-10\"])"
   ]
  },
  {
   "cell_type": "code",
   "execution_count": 25,
   "metadata": {},
   "outputs": [
    {
     "data": {
      "text/plain": [
       "Timestamp('2025-01-10 00:00:00')"
      ]
     },
     "execution_count": 25,
     "metadata": {},
     "output_type": "execute_result"
    }
   ],
   "source": [
    "dt_index = pd.DatetimeIndex([dt.date(2025,3,20),\n",
    "                  \"2025-01-10\"])\n",
    "dt_index[0]\n",
    "dt_index[1]"
   ]
  },
  {
   "cell_type": "code",
   "execution_count": 26,
   "metadata": {},
   "outputs": [
    {
     "data": {
      "text/plain": [
       "pandas.core.indexes.datetimes.DatetimeIndex"
      ]
     },
     "execution_count": 26,
     "metadata": {},
     "output_type": "execute_result"
    }
   ],
   "source": [
    "type(dt_index)"
   ]
  },
  {
   "cell_type": "markdown",
   "metadata": {},
   "source": [
    "## Create Range of Dates with pd.date_range Function\n",
    "- The `date_range` function generates and returns a **DatetimeIndex** holding a sequence of dates.\n",
    "- The function requires 2 of the 3 following parameters: `start`, `end`, and `period`.\n",
    "- With `start` and `end`, Pandas will assume a daily period/interval.\n",
    "- Every element within a **DatetimeIndex** is a **Timestamp**."
   ]
  },
  {
   "cell_type": "code",
   "execution_count": 32,
   "metadata": {},
   "outputs": [
    {
     "data": {
      "text/plain": [
       "DatetimeIndex(['2025-05-01', '2025-05-03', '2025-05-05', '2025-05-07',\n",
       "               '2025-05-09'],\n",
       "              dtype='datetime64[ns]', freq='2D')"
      ]
     },
     "execution_count": 32,
     "metadata": {},
     "output_type": "execute_result"
    }
   ],
   "source": [
    "# Generate a simple daterange spanning from 1stMay to 10thMay\n",
    "pd.date_range(start=\"2025-05-01\",end=\"2025-05-10\",freq=\"D\")\n",
    "# Generate a daterange from 1st to 10thMay with every alternate day\n",
    "pd.date_range(start=\"2025-05-01\",end=\"2025-05-10\",freq=\"2D\")"
   ]
  },
  {
   "cell_type": "code",
   "execution_count": 34,
   "metadata": {},
   "outputs": [
    {
     "data": {
      "text/plain": [
       "DatetimeIndex(['2025-05-01', '2025-05-02', '2025-05-05', '2025-05-06',\n",
       "               '2025-05-07', '2025-05-08', '2025-05-09'],\n",
       "              dtype='datetime64[ns]', freq='B')"
      ]
     },
     "execution_count": 34,
     "metadata": {},
     "output_type": "execute_result"
    }
   ],
   "source": [
    "# Generate a daterange consisting of only business days (weekdays/ working days) from 1stMay to 10thMay\n",
    "pd.date_range(start=\"2025-05-01\",end=\"2025-05-10\",freq=\"B\")\n",
    "# The skipped days are the weekends"
   ]
  },
  {
   "cell_type": "code",
   "execution_count": 37,
   "metadata": {},
   "outputs": [
    {
     "data": {
      "text/plain": [
       "DatetimeIndex(['2025-05-04', '2025-05-11', '2025-05-18', '2025-05-25'], dtype='datetime64[ns]', freq='W-SUN')"
      ]
     },
     "execution_count": 37,
     "metadata": {},
     "output_type": "execute_result"
    }
   ],
   "source": [
    "# Generate a daterange consisting of weekly frequency --Defaults to Sunday but can be modified\n",
    "pd.date_range(start=\"2025-05-01\",end=\"2025-05-30\",freq=\"W\")"
   ]
  },
  {
   "cell_type": "code",
   "execution_count": 39,
   "metadata": {},
   "outputs": [
    {
     "data": {
      "text/plain": [
       "DatetimeIndex(['2025-05-02', '2025-05-09', '2025-05-16', '2025-05-23',\n",
       "               '2025-05-30'],\n",
       "              dtype='datetime64[ns]', freq='W-FRI')"
      ]
     },
     "execution_count": 39,
     "metadata": {},
     "output_type": "execute_result"
    }
   ],
   "source": [
    "pd.date_range(start=\"2025-05-01\",end=\"2025-05-30\",freq=\"W-FRI\")"
   ]
  },
  {
   "cell_type": "code",
   "execution_count": 42,
   "metadata": {},
   "outputs": [
    {
     "name": "stderr",
     "output_type": "stream",
     "text": [
      "C:\\Users\\ABHIJEET.BHAMBERE\\AppData\\Local\\Temp\\ipykernel_17876\\1503977264.py:3: FutureWarning: 'H' is deprecated and will be removed in a future version, please use 'h' instead.\n",
      "  pd.date_range(start=\"2025-05-01\",end=\"2025-05-10\",freq=\"H\")\n",
      "C:\\Users\\ABHIJEET.BHAMBERE\\AppData\\Local\\Temp\\ipykernel_17876\\1503977264.py:5: FutureWarning: 'H' is deprecated and will be removed in a future version, please use 'h' instead.\n",
      "  pd.date_range(start=\"2025-05-01\",end=\"2025-05-10\",freq=\"4H\")\n"
     ]
    },
    {
     "data": {
      "text/plain": [
       "DatetimeIndex(['2025-05-01 00:00:00', '2025-05-01 04:00:00',\n",
       "               '2025-05-01 08:00:00', '2025-05-01 12:00:00',\n",
       "               '2025-05-01 16:00:00', '2025-05-01 20:00:00',\n",
       "               '2025-05-02 00:00:00', '2025-05-02 04:00:00',\n",
       "               '2025-05-02 08:00:00', '2025-05-02 12:00:00',\n",
       "               '2025-05-02 16:00:00', '2025-05-02 20:00:00',\n",
       "               '2025-05-03 00:00:00', '2025-05-03 04:00:00',\n",
       "               '2025-05-03 08:00:00', '2025-05-03 12:00:00',\n",
       "               '2025-05-03 16:00:00', '2025-05-03 20:00:00',\n",
       "               '2025-05-04 00:00:00', '2025-05-04 04:00:00',\n",
       "               '2025-05-04 08:00:00', '2025-05-04 12:00:00',\n",
       "               '2025-05-04 16:00:00', '2025-05-04 20:00:00',\n",
       "               '2025-05-05 00:00:00', '2025-05-05 04:00:00',\n",
       "               '2025-05-05 08:00:00', '2025-05-05 12:00:00',\n",
       "               '2025-05-05 16:00:00', '2025-05-05 20:00:00',\n",
       "               '2025-05-06 00:00:00', '2025-05-06 04:00:00',\n",
       "               '2025-05-06 08:00:00', '2025-05-06 12:00:00',\n",
       "               '2025-05-06 16:00:00', '2025-05-06 20:00:00',\n",
       "               '2025-05-07 00:00:00', '2025-05-07 04:00:00',\n",
       "               '2025-05-07 08:00:00', '2025-05-07 12:00:00',\n",
       "               '2025-05-07 16:00:00', '2025-05-07 20:00:00',\n",
       "               '2025-05-08 00:00:00', '2025-05-08 04:00:00',\n",
       "               '2025-05-08 08:00:00', '2025-05-08 12:00:00',\n",
       "               '2025-05-08 16:00:00', '2025-05-08 20:00:00',\n",
       "               '2025-05-09 00:00:00', '2025-05-09 04:00:00',\n",
       "               '2025-05-09 08:00:00', '2025-05-09 12:00:00',\n",
       "               '2025-05-09 16:00:00', '2025-05-09 20:00:00',\n",
       "               '2025-05-10 00:00:00'],\n",
       "              dtype='datetime64[ns]', freq='4h')"
      ]
     },
     "execution_count": 42,
     "metadata": {},
     "output_type": "execute_result"
    }
   ],
   "source": [
    "# Generate a daterange consisting of hourly frequency --presenting more granular data ideally require for time-series data analysis\n",
    "\n",
    "pd.date_range(start=\"2025-05-01\",end=\"2025-05-10\",freq=\"H\")\n",
    "\n",
    "pd.date_range(start=\"2025-05-01\",end=\"2025-05-10\",freq=\"4H\")"
   ]
  },
  {
   "cell_type": "code",
   "execution_count": 45,
   "metadata": {},
   "outputs": [
    {
     "data": {
      "text/plain": [
       "DatetimeIndex(['2025-01-01', '2025-02-01', '2025-03-01', '2025-04-01',\n",
       "               '2025-05-01', '2025-06-01', '2025-07-01', '2025-08-01',\n",
       "               '2025-09-01', '2025-10-01', '2025-11-01', '2025-12-01'],\n",
       "              dtype='datetime64[ns]', freq='MS')"
      ]
     },
     "execution_count": 45,
     "metadata": {},
     "output_type": "execute_result"
    }
   ],
   "source": [
    "# Generate a daterange consisting of monthly frequency consisting of month-starts\n",
    "pd.date_range(start=\"2025-01-01\",end=\"2025-12-31\",freq=\"MS\")"
   ]
  },
  {
   "cell_type": "code",
   "execution_count": 46,
   "metadata": {},
   "outputs": [
    {
     "data": {
      "text/plain": [
       "DatetimeIndex(['2025-01-31', '2025-02-28', '2025-03-31', '2025-04-30',\n",
       "               '2025-05-31', '2025-06-30', '2025-07-31', '2025-08-31',\n",
       "               '2025-09-30', '2025-10-31', '2025-11-30', '2025-12-31'],\n",
       "              dtype='datetime64[ns]', freq='ME')"
      ]
     },
     "execution_count": 46,
     "metadata": {},
     "output_type": "execute_result"
    }
   ],
   "source": [
    "# Generate a daterange consisting of monthly frequency consisting of month-ends\n",
    "pd.date_range(start=\"2025-01-01\",end=\"2025-12-31\",freq=\"ME\")\n"
   ]
  },
  {
   "cell_type": "code",
   "execution_count": 48,
   "metadata": {},
   "outputs": [
    {
     "data": {
      "text/plain": [
       "DatetimeIndex(['2025-01-01', '2025-01-02', '2025-01-03', '2025-01-04',\n",
       "               '2025-01-05', '2025-01-06', '2025-01-07', '2025-01-08',\n",
       "               '2025-01-09', '2025-01-10', '2025-01-11', '2025-01-12',\n",
       "               '2025-01-13', '2025-01-14', '2025-01-15', '2025-01-16',\n",
       "               '2025-01-17', '2025-01-18', '2025-01-19', '2025-01-20',\n",
       "               '2025-01-21', '2025-01-22', '2025-01-23', '2025-01-24',\n",
       "               '2025-01-25'],\n",
       "              dtype='datetime64[ns]', freq='D')"
      ]
     },
     "execution_count": 48,
     "metadata": {},
     "output_type": "execute_result"
    }
   ],
   "source": [
    "# another way of generating the datespan -- using periods parameter\n",
    "pd.date_range(start=\"2025-01-01\",periods=25,freq=\"D\")"
   ]
  },
  {
   "cell_type": "code",
   "execution_count": 50,
   "metadata": {},
   "outputs": [
    {
     "data": {
      "text/plain": [
       "DatetimeIndex(['2024-12-08', '2024-12-09', '2024-12-10', '2024-12-11',\n",
       "               '2024-12-12', '2024-12-13', '2024-12-14', '2024-12-15',\n",
       "               '2024-12-16', '2024-12-17', '2024-12-18', '2024-12-19',\n",
       "               '2024-12-20', '2024-12-21', '2024-12-22', '2024-12-23',\n",
       "               '2024-12-24', '2024-12-25', '2024-12-26', '2024-12-27',\n",
       "               '2024-12-28', '2024-12-29', '2024-12-30', '2024-12-31',\n",
       "               '2025-01-01'],\n",
       "              dtype='datetime64[ns]', freq='D')"
      ]
     },
     "execution_count": 50,
     "metadata": {},
     "output_type": "execute_result"
    }
   ],
   "source": [
    "# The periods param can also be used backwards\n",
    "pd.date_range(end=\"2025-01-01\",periods=25,freq=\"D\")"
   ]
  },
  {
   "cell_type": "markdown",
   "metadata": {},
   "source": [
    "## The dt Attribute\n",
    "- The `dt` attribute reveals a `DatetimeProperties` object with attributes/methods for working with datetimes. It is similar to the `str` attribute for string methods.\n",
    "- The `DatetimeProperties` object has attributes like `day`, `month`, and `year` to reveal information about each date in the **Series**.\n",
    "- The `day_name` method returns the written day of the week.\n",
    "- Attributes like `is_month_end` and `is_quarter_start` return Boolean **Series**."
   ]
  },
  {
   "cell_type": "code",
   "execution_count": null,
   "metadata": {},
   "outputs": [],
   "source": []
  },
  {
   "cell_type": "code",
   "execution_count": null,
   "metadata": {},
   "outputs": [],
   "source": []
  },
  {
   "cell_type": "code",
   "execution_count": null,
   "metadata": {},
   "outputs": [],
   "source": []
  },
  {
   "cell_type": "code",
   "execution_count": null,
   "metadata": {},
   "outputs": [],
   "source": []
  },
  {
   "cell_type": "markdown",
   "metadata": {},
   "source": [
    "## Selecting Rows from a DataFrame with a DateTimeIndex\n",
    "- The `iloc` accessor is available for index position-based extraction.\n",
    "- The `loc` accessor accepts strings or **Timestamps** to extract by index label/value. Note that Python's `datetime` objects will not work.\n",
    "- Use list slicing to extract a sequence of dates. The `truncate` method is another alternative."
   ]
  },
  {
   "cell_type": "code",
   "execution_count": null,
   "metadata": {},
   "outputs": [],
   "source": []
  },
  {
   "cell_type": "code",
   "execution_count": null,
   "metadata": {},
   "outputs": [],
   "source": []
  },
  {
   "cell_type": "code",
   "execution_count": null,
   "metadata": {},
   "outputs": [],
   "source": []
  },
  {
   "cell_type": "code",
   "execution_count": null,
   "metadata": {},
   "outputs": [],
   "source": []
  },
  {
   "cell_type": "markdown",
   "metadata": {},
   "source": [
    "## The DateOffset Object\n",
    "- A **DateOffset** object adds time to a **Timestamp** to arrive at a new **Timestamp**.\n",
    "- The **DateOffset** constructor accepts `days`, `weeks`, `months`, `years` parameters, and more.\n",
    "- We can pass a **DateOffset** object to the `freq` parameter of the `pd.date_range` function."
   ]
  },
  {
   "cell_type": "code",
   "execution_count": null,
   "metadata": {},
   "outputs": [],
   "source": []
  },
  {
   "cell_type": "code",
   "execution_count": null,
   "metadata": {},
   "outputs": [],
   "source": []
  },
  {
   "cell_type": "code",
   "execution_count": null,
   "metadata": {},
   "outputs": [],
   "source": []
  },
  {
   "cell_type": "code",
   "execution_count": null,
   "metadata": {},
   "outputs": [],
   "source": []
  },
  {
   "cell_type": "markdown",
   "metadata": {},
   "source": [
    "## Specialized Date Offsets\n",
    "- Pandas nests more specialized date offsets in `pd.tseries.offsets`.\n",
    "- We can add a different amount of time to each date (for example, month end, quarter end, year begin)"
   ]
  },
  {
   "cell_type": "code",
   "execution_count": null,
   "metadata": {},
   "outputs": [],
   "source": []
  },
  {
   "cell_type": "code",
   "execution_count": null,
   "metadata": {},
   "outputs": [],
   "source": []
  },
  {
   "cell_type": "code",
   "execution_count": null,
   "metadata": {},
   "outputs": [],
   "source": []
  },
  {
   "cell_type": "code",
   "execution_count": null,
   "metadata": {},
   "outputs": [],
   "source": []
  },
  {
   "cell_type": "markdown",
   "metadata": {},
   "source": [
    "## Timedeltas\n",
    "- A **Timedelta** is a pandas object that represents a duration (an amount of time).\n",
    "- Subtracting two **Timestamp** objects will yield a **Timedelta** object (this applies to subtracting a **Series** from another **Series**).\n",
    "- The **Timedelta** constructor accepts parameters for time as well as string descriptions."
   ]
  },
  {
   "cell_type": "code",
   "execution_count": null,
   "metadata": {},
   "outputs": [],
   "source": []
  },
  {
   "cell_type": "code",
   "execution_count": null,
   "metadata": {},
   "outputs": [],
   "source": []
  },
  {
   "cell_type": "code",
   "execution_count": null,
   "metadata": {},
   "outputs": [],
   "source": []
  },
  {
   "cell_type": "code",
   "execution_count": null,
   "metadata": {},
   "outputs": [],
   "source": []
  },
  {
   "cell_type": "code",
   "execution_count": null,
   "metadata": {},
   "outputs": [],
   "source": []
  },
  {
   "cell_type": "code",
   "execution_count": null,
   "metadata": {},
   "outputs": [],
   "source": []
  },
  {
   "cell_type": "code",
   "execution_count": null,
   "metadata": {},
   "outputs": [],
   "source": []
  }
 ],
 "metadata": {
  "anaconda-cloud": {},
  "kernelspec": {
   "display_name": ".venv",
   "language": "python",
   "name": "python3"
  },
  "language_info": {
   "codemirror_mode": {
    "name": "ipython",
    "version": 3
   },
   "file_extension": ".py",
   "mimetype": "text/x-python",
   "name": "python",
   "nbconvert_exporter": "python",
   "pygments_lexer": "ipython3",
   "version": "3.13.1"
  }
 },
 "nbformat": 4,
 "nbformat_minor": 4
}
