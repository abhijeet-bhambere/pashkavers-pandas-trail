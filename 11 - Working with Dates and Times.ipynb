{
 "cells": [
  {
   "cell_type": "markdown",
   "metadata": {},
   "source": [
    "# Working with Dates and Times"
   ]
  },
  {
   "cell_type": "code",
   "execution_count": 71,
   "metadata": {
    "scrolled": true
   },
   "outputs": [],
   "source": [
    "import pandas as pd\n",
    "import datetime as dt"
   ]
  },
  {
   "cell_type": "markdown",
   "metadata": {},
   "source": [
    "## Review of Python's datetime Module\n",
    "- The `datetime` module is built into the core Python programming language.\n",
    "- The common alias for the `datetime` module is `dt`.\n",
    "- A module is a Python source file; think of like an internal library that Python loads on demand.\n",
    "- The `datetime` module includes `date` and `datetime` classes for representing dates and datetimes.\n",
    "- The `date` constructor accepts arguments for year, month, and day. Python defaults to 0 for any missing values.\n",
    "- The `datetime` constructor accepts arguments for year, month, day, hour, minute, and second."
   ]
  },
  {
   "cell_type": "code",
   "execution_count": 72,
   "metadata": {},
   "outputs": [
    {
     "data": {
      "text/plain": [
       "Timestamp('2025-05-05 15:30:00')"
      ]
     },
     "execution_count": 72,
     "metadata": {},
     "output_type": "execute_result"
    }
   ],
   "source": [
    "pd.Timestamp(2025,5,5)\n",
    "pd.Timestamp(2025,5,5,15,30,00)"
   ]
  },
  {
   "cell_type": "code",
   "execution_count": 73,
   "metadata": {},
   "outputs": [
    {
     "data": {
      "text/plain": [
       "Timestamp('2025-05-05 14:30:00')"
      ]
     },
     "execution_count": 73,
     "metadata": {},
     "output_type": "execute_result"
    }
   ],
   "source": [
    "# We can also pass a python datetime object\n",
    "pd.Timestamp(dt.date(2025,5,5))\n",
    "pd.Timestamp(dt.datetime(2025,5,5,14,30))"
   ]
  },
  {
   "cell_type": "code",
   "execution_count": 74,
   "metadata": {},
   "outputs": [
    {
     "data": {
      "text/plain": [
       "Timestamp('2025-05-05 15:30:20')"
      ]
     },
     "execution_count": 74,
     "metadata": {},
     "output_type": "execute_result"
    }
   ],
   "source": [
    "pd.Timestamp(\"2025-05-05\")\n",
    "pd.Timestamp(\"2025/05/05\")\n",
    "pd.Timestamp(\"2025-05-05 15:30:20\")"
   ]
  },
  {
   "cell_type": "markdown",
   "metadata": {},
   "source": [
    "##### Loading `timestamp` object into a series"
   ]
  },
  {
   "cell_type": "code",
   "execution_count": 75,
   "metadata": {},
   "outputs": [
    {
     "data": {
      "text/plain": [
       "0   2025-05-05 15:30:20\n",
       "dtype: datetime64[ns]"
      ]
     },
     "execution_count": 75,
     "metadata": {},
     "output_type": "execute_result"
    }
   ],
   "source": [
    "pd.Series(pd.Timestamp(\"2025-05-05 15:30:20\"))"
   ]
  },
  {
   "cell_type": "markdown",
   "metadata": {},
   "source": [
    "## The Timestamp and DatetimeIndex Objects\n",
    "\n",
    "- Pandas ships with several classes related to datetimes.\n",
    "- The **Timestamp** is similar to Python's **datetime** object (but with expanded functionality).\n",
    "- A **DatetimeIndex** is an index of **Timestamp** objects.\n",
    "- The **Timestamp** constructor accepts a string, a **datetime** object, or equivalent arguments to the **datetime** clas."
   ]
  },
  {
   "cell_type": "code",
   "execution_count": 76,
   "metadata": {
    "scrolled": true
   },
   "outputs": [
    {
     "data": {
      "text/plain": [
       "DatetimeIndex(['2025-05-05', '2025-03-20', '2025-01-10'], dtype='datetime64[ns]', freq=None)"
      ]
     },
     "execution_count": 76,
     "metadata": {},
     "output_type": "execute_result"
    }
   ],
   "source": [
    "# When a timestamp is used as an index to a dataframe\n",
    "pd.DatetimeIndex([\"2025-05-05\",\"2025-03-20\",\"2025-01-10\"])"
   ]
  },
  {
   "cell_type": "code",
   "execution_count": 77,
   "metadata": {},
   "outputs": [
    {
     "data": {
      "text/plain": [
       "Timestamp('2025-01-10 00:00:00')"
      ]
     },
     "execution_count": 77,
     "metadata": {},
     "output_type": "execute_result"
    }
   ],
   "source": [
    "dt_index = pd.DatetimeIndex([dt.date(2025,3,20),\n",
    "                  \"2025-01-10\"])\n",
    "dt_index[0]\n",
    "dt_index[1]"
   ]
  },
  {
   "cell_type": "code",
   "execution_count": 78,
   "metadata": {},
   "outputs": [
    {
     "data": {
      "text/plain": [
       "pandas.core.indexes.datetimes.DatetimeIndex"
      ]
     },
     "execution_count": 78,
     "metadata": {},
     "output_type": "execute_result"
    }
   ],
   "source": [
    "type(dt_index)"
   ]
  },
  {
   "cell_type": "markdown",
   "metadata": {},
   "source": [
    "## Create Range of Dates with pd.date_range Function\n",
    "- The `date_range` function generates and returns a **DatetimeIndex** holding a sequence of dates.\n",
    "- The function requires 2 of the 3 following parameters: `start`, `end`, and `period`.\n",
    "- With `start` and `end`, Pandas will assume a daily period/interval.\n",
    "- Every element within a **DatetimeIndex** is a **Timestamp**."
   ]
  },
  {
   "cell_type": "code",
   "execution_count": 79,
   "metadata": {},
   "outputs": [
    {
     "data": {
      "text/plain": [
       "DatetimeIndex(['2025-05-01', '2025-05-03', '2025-05-05', '2025-05-07',\n",
       "               '2025-05-09'],\n",
       "              dtype='datetime64[ns]', freq='2D')"
      ]
     },
     "execution_count": 79,
     "metadata": {},
     "output_type": "execute_result"
    }
   ],
   "source": [
    "# Generate a simple daterange spanning from 1stMay to 10thMay\n",
    "pd.date_range(start=\"2025-05-01\",end=\"2025-05-10\",freq=\"D\")\n",
    "# Generate a daterange from 1st to 10thMay with every alternate day\n",
    "pd.date_range(start=\"2025-05-01\",end=\"2025-05-10\",freq=\"2D\")"
   ]
  },
  {
   "cell_type": "code",
   "execution_count": 80,
   "metadata": {},
   "outputs": [
    {
     "data": {
      "text/plain": [
       "DatetimeIndex(['2025-05-01', '2025-05-02', '2025-05-05', '2025-05-06',\n",
       "               '2025-05-07', '2025-05-08', '2025-05-09'],\n",
       "              dtype='datetime64[ns]', freq='B')"
      ]
     },
     "execution_count": 80,
     "metadata": {},
     "output_type": "execute_result"
    }
   ],
   "source": [
    "# Generate a daterange consisting of only business days (weekdays/ working days) from 1stMay to 10thMay\n",
    "pd.date_range(start=\"2025-05-01\",end=\"2025-05-10\",freq=\"B\")\n",
    "# The skipped days are the weekends"
   ]
  },
  {
   "cell_type": "code",
   "execution_count": 81,
   "metadata": {},
   "outputs": [
    {
     "data": {
      "text/plain": [
       "DatetimeIndex(['2025-05-04', '2025-05-11', '2025-05-18', '2025-05-25'], dtype='datetime64[ns]', freq='W-SUN')"
      ]
     },
     "execution_count": 81,
     "metadata": {},
     "output_type": "execute_result"
    }
   ],
   "source": [
    "# Generate a daterange consisting of weekly frequency --Defaults to Sunday but can be modified\n",
    "pd.date_range(start=\"2025-05-01\",end=\"2025-05-30\",freq=\"W\")"
   ]
  },
  {
   "cell_type": "code",
   "execution_count": 82,
   "metadata": {},
   "outputs": [
    {
     "data": {
      "text/plain": [
       "DatetimeIndex(['2025-05-02', '2025-05-09', '2025-05-16', '2025-05-23',\n",
       "               '2025-05-30'],\n",
       "              dtype='datetime64[ns]', freq='W-FRI')"
      ]
     },
     "execution_count": 82,
     "metadata": {},
     "output_type": "execute_result"
    }
   ],
   "source": [
    "pd.date_range(start=\"2025-05-01\",end=\"2025-05-30\",freq=\"W-FRI\")"
   ]
  },
  {
   "cell_type": "code",
   "execution_count": 83,
   "metadata": {},
   "outputs": [
    {
     "data": {
      "text/plain": [
       "DatetimeIndex(['2025-05-01 00:00:00', '2025-05-01 04:00:00',\n",
       "               '2025-05-01 08:00:00', '2025-05-01 12:00:00',\n",
       "               '2025-05-01 16:00:00', '2025-05-01 20:00:00',\n",
       "               '2025-05-02 00:00:00', '2025-05-02 04:00:00',\n",
       "               '2025-05-02 08:00:00', '2025-05-02 12:00:00',\n",
       "               '2025-05-02 16:00:00', '2025-05-02 20:00:00',\n",
       "               '2025-05-03 00:00:00', '2025-05-03 04:00:00',\n",
       "               '2025-05-03 08:00:00', '2025-05-03 12:00:00',\n",
       "               '2025-05-03 16:00:00', '2025-05-03 20:00:00',\n",
       "               '2025-05-04 00:00:00', '2025-05-04 04:00:00',\n",
       "               '2025-05-04 08:00:00', '2025-05-04 12:00:00',\n",
       "               '2025-05-04 16:00:00', '2025-05-04 20:00:00',\n",
       "               '2025-05-05 00:00:00', '2025-05-05 04:00:00',\n",
       "               '2025-05-05 08:00:00', '2025-05-05 12:00:00',\n",
       "               '2025-05-05 16:00:00', '2025-05-05 20:00:00',\n",
       "               '2025-05-06 00:00:00', '2025-05-06 04:00:00',\n",
       "               '2025-05-06 08:00:00', '2025-05-06 12:00:00',\n",
       "               '2025-05-06 16:00:00', '2025-05-06 20:00:00',\n",
       "               '2025-05-07 00:00:00', '2025-05-07 04:00:00',\n",
       "               '2025-05-07 08:00:00', '2025-05-07 12:00:00',\n",
       "               '2025-05-07 16:00:00', '2025-05-07 20:00:00',\n",
       "               '2025-05-08 00:00:00', '2025-05-08 04:00:00',\n",
       "               '2025-05-08 08:00:00', '2025-05-08 12:00:00',\n",
       "               '2025-05-08 16:00:00', '2025-05-08 20:00:00',\n",
       "               '2025-05-09 00:00:00', '2025-05-09 04:00:00',\n",
       "               '2025-05-09 08:00:00', '2025-05-09 12:00:00',\n",
       "               '2025-05-09 16:00:00', '2025-05-09 20:00:00',\n",
       "               '2025-05-10 00:00:00'],\n",
       "              dtype='datetime64[ns]', freq='4h')"
      ]
     },
     "execution_count": 83,
     "metadata": {},
     "output_type": "execute_result"
    }
   ],
   "source": [
    "# Generate a daterange consisting of hourly frequency --presenting more granular data ideally require for time-series data analysis\n",
    "\n",
    "pd.date_range(start=\"2025-05-01\",end=\"2025-05-10\",freq=\"h\")\n",
    "\n",
    "pd.date_range(start=\"2025-05-01\",end=\"2025-05-10\",freq=\"4h\")"
   ]
  },
  {
   "cell_type": "code",
   "execution_count": 84,
   "metadata": {},
   "outputs": [
    {
     "data": {
      "text/plain": [
       "DatetimeIndex(['2025-01-01', '2025-02-01', '2025-03-01', '2025-04-01',\n",
       "               '2025-05-01', '2025-06-01', '2025-07-01', '2025-08-01',\n",
       "               '2025-09-01', '2025-10-01', '2025-11-01', '2025-12-01'],\n",
       "              dtype='datetime64[ns]', freq='MS')"
      ]
     },
     "execution_count": 84,
     "metadata": {},
     "output_type": "execute_result"
    }
   ],
   "source": [
    "# Generate a daterange consisting of monthly frequency consisting of month-starts\n",
    "pd.date_range(start=\"2025-01-01\",end=\"2025-12-31\",freq=\"MS\")"
   ]
  },
  {
   "cell_type": "code",
   "execution_count": 85,
   "metadata": {},
   "outputs": [
    {
     "data": {
      "text/plain": [
       "DatetimeIndex(['2025-01-31', '2025-02-28', '2025-03-31', '2025-04-30',\n",
       "               '2025-05-31', '2025-06-30', '2025-07-31', '2025-08-31',\n",
       "               '2025-09-30', '2025-10-31', '2025-11-30', '2025-12-31'],\n",
       "              dtype='datetime64[ns]', freq='ME')"
      ]
     },
     "execution_count": 85,
     "metadata": {},
     "output_type": "execute_result"
    }
   ],
   "source": [
    "# Generate a daterange consisting of monthly frequency consisting of month-ends\n",
    "pd.date_range(start=\"2025-01-01\",end=\"2025-12-31\",freq=\"ME\")\n"
   ]
  },
  {
   "cell_type": "code",
   "execution_count": 86,
   "metadata": {},
   "outputs": [
    {
     "data": {
      "text/plain": [
       "DatetimeIndex(['2025-01-01', '2025-01-02', '2025-01-03', '2025-01-04',\n",
       "               '2025-01-05', '2025-01-06', '2025-01-07', '2025-01-08',\n",
       "               '2025-01-09', '2025-01-10', '2025-01-11', '2025-01-12',\n",
       "               '2025-01-13', '2025-01-14', '2025-01-15', '2025-01-16',\n",
       "               '2025-01-17', '2025-01-18', '2025-01-19', '2025-01-20',\n",
       "               '2025-01-21', '2025-01-22', '2025-01-23', '2025-01-24',\n",
       "               '2025-01-25'],\n",
       "              dtype='datetime64[ns]', freq='D')"
      ]
     },
     "execution_count": 86,
     "metadata": {},
     "output_type": "execute_result"
    }
   ],
   "source": [
    "# another way of generating the datespan -- using periods parameter\n",
    "pd.date_range(start=\"2025-01-01\",periods=25,freq=\"D\")"
   ]
  },
  {
   "cell_type": "code",
   "execution_count": 87,
   "metadata": {},
   "outputs": [
    {
     "data": {
      "text/plain": [
       "DatetimeIndex(['2024-12-08', '2024-12-09', '2024-12-10', '2024-12-11',\n",
       "               '2024-12-12', '2024-12-13', '2024-12-14', '2024-12-15',\n",
       "               '2024-12-16', '2024-12-17', '2024-12-18', '2024-12-19',\n",
       "               '2024-12-20', '2024-12-21', '2024-12-22', '2024-12-23',\n",
       "               '2024-12-24', '2024-12-25', '2024-12-26', '2024-12-27',\n",
       "               '2024-12-28', '2024-12-29', '2024-12-30', '2024-12-31',\n",
       "               '2025-01-01'],\n",
       "              dtype='datetime64[ns]', freq='D')"
      ]
     },
     "execution_count": 87,
     "metadata": {},
     "output_type": "execute_result"
    }
   ],
   "source": [
    "# The periods param can also be used backwards\n",
    "pd.date_range(end=\"2025-01-01\",periods=25,freq=\"D\")"
   ]
  },
  {
   "cell_type": "markdown",
   "metadata": {},
   "source": [
    "## The dt Attribute\n",
    "- The `dt` attribute reveals a `DatetimeProperties` object with attributes/methods for working with datetimes. It is similar to the `str` attribute for string methods.\n",
    "- The `DatetimeProperties` object has attributes like `day`, `month`, and `year` to reveal information about each date in the **Series**.\n",
    "- The `day_name` method returns the written day of the week.\n",
    "- Attributes like `is_month_end` and `is_quarter_start` return Boolean **Series**."
   ]
  },
  {
   "cell_type": "code",
   "execution_count": 88,
   "metadata": {},
   "outputs": [
    {
     "data": {
      "text/plain": [
       "0    2025-01-01 00:00:00\n",
       "1    2025-01-11 04:00:00\n",
       "2    2025-01-21 08:00:00\n",
       "3    2025-01-31 12:00:00\n",
       "4    2025-02-10 16:00:00\n",
       "5    2025-02-20 20:00:00\n",
       "6    2025-03-03 00:00:00\n",
       "7    2025-03-13 04:00:00\n",
       "8    2025-03-23 08:00:00\n",
       "9    2025-04-02 12:00:00\n",
       "10   2025-04-12 16:00:00\n",
       "11   2025-04-22 20:00:00\n",
       "12   2025-05-03 00:00:00\n",
       "13   2025-05-13 04:00:00\n",
       "14   2025-05-23 08:00:00\n",
       "dtype: datetime64[ns]"
      ]
     },
     "execution_count": 88,
     "metadata": {},
     "output_type": "execute_result"
    }
   ],
   "source": [
    "sample = pd.Series(pd.date_range(start=\"2025-01-01\", end=\"2025-05-30\",freq=\"10D 4h\"))\n",
    "sample"
   ]
  },
  {
   "cell_type": "markdown",
   "metadata": {},
   "source": [
    "##### We can now access various components of the date-time object. This can be useful in filtering records or when applying functions"
   ]
  },
  {
   "cell_type": "code",
   "execution_count": 89,
   "metadata": {},
   "outputs": [
    {
     "data": {
      "text/plain": [
       "0      January\n",
       "1      January\n",
       "2      January\n",
       "3      January\n",
       "4     February\n",
       "5     February\n",
       "6        March\n",
       "7        March\n",
       "8        March\n",
       "9        April\n",
       "10       April\n",
       "11       April\n",
       "12         May\n",
       "13         May\n",
       "14         May\n",
       "dtype: object"
      ]
     },
     "execution_count": 89,
     "metadata": {},
     "output_type": "execute_result"
    }
   ],
   "source": [
    "sample.dt.day\n",
    "sample.dt.month\n",
    "sample.dt.day_name()\n",
    "sample.dt.month_name()"
   ]
  },
  {
   "cell_type": "code",
   "execution_count": 90,
   "metadata": {},
   "outputs": [
    {
     "data": {
      "text/plain": [
       "0      True\n",
       "1     False\n",
       "2     False\n",
       "3     False\n",
       "4     False\n",
       "5     False\n",
       "6     False\n",
       "7     False\n",
       "8     False\n",
       "9     False\n",
       "10    False\n",
       "11    False\n",
       "12    False\n",
       "13    False\n",
       "14    False\n",
       "dtype: bool"
      ]
     },
     "execution_count": 90,
     "metadata": {},
     "output_type": "execute_result"
    }
   ],
   "source": [
    "sample.dt.is_month_end\n",
    "sample.dt.is_month_start\n"
   ]
  },
  {
   "cell_type": "code",
   "execution_count": 91,
   "metadata": {},
   "outputs": [
    {
     "data": {
      "text/plain": [
       "0   2025-01-01\n",
       "dtype: datetime64[ns]"
      ]
     },
     "execution_count": 91,
     "metadata": {},
     "output_type": "execute_result"
    }
   ],
   "source": [
    "sample[sample.dt.is_month_start]"
   ]
  },
  {
   "cell_type": "code",
   "execution_count": 92,
   "metadata": {},
   "outputs": [
    {
     "data": {
      "text/plain": [
       "0   2025-01-01\n",
       "dtype: datetime64[ns]"
      ]
     },
     "execution_count": 92,
     "metadata": {},
     "output_type": "execute_result"
    }
   ],
   "source": [
    "sample[sample.dt.is_quarter_start]"
   ]
  },
  {
   "cell_type": "markdown",
   "metadata": {},
   "source": [
    "## Selecting Rows from a DataFrame with a DateTimeIndex\n",
    "- The `iloc` accessor is available for index position-based extraction.\n",
    "- The `loc` accessor accepts strings or **Timestamps** to extract by index label/value. Note that Python's `datetime` objects will not work.\n",
    "- Use list slicing to extract a sequence of dates. The `truncate` method is another alternative."
   ]
  },
  {
   "cell_type": "code",
   "execution_count": 93,
   "metadata": {},
   "outputs": [
    {
     "data": {
      "text/html": [
       "<div>\n",
       "<style scoped>\n",
       "    .dataframe tbody tr th:only-of-type {\n",
       "        vertical-align: middle;\n",
       "    }\n",
       "\n",
       "    .dataframe tbody tr th {\n",
       "        vertical-align: top;\n",
       "    }\n",
       "\n",
       "    .dataframe thead th {\n",
       "        text-align: right;\n",
       "    }\n",
       "</style>\n",
       "<table border=\"1\" class=\"dataframe\">\n",
       "  <thead>\n",
       "    <tr style=\"text-align: right;\">\n",
       "      <th></th>\n",
       "      <th>Open</th>\n",
       "      <th>High</th>\n",
       "      <th>Low</th>\n",
       "      <th>Close</th>\n",
       "      <th>Volume</th>\n",
       "    </tr>\n",
       "    <tr>\n",
       "      <th>Date</th>\n",
       "      <th></th>\n",
       "      <th></th>\n",
       "      <th></th>\n",
       "      <th></th>\n",
       "      <th></th>\n",
       "    </tr>\n",
       "  </thead>\n",
       "  <tbody>\n",
       "    <tr>\n",
       "      <th>1962-01-02</th>\n",
       "      <td>5.04610</td>\n",
       "      <td>5.04610</td>\n",
       "      <td>4.98716</td>\n",
       "      <td>4.98716</td>\n",
       "      <td>593562.955237</td>\n",
       "    </tr>\n",
       "    <tr>\n",
       "      <th>1962-01-03</th>\n",
       "      <td>4.98716</td>\n",
       "      <td>5.03292</td>\n",
       "      <td>4.98716</td>\n",
       "      <td>5.03292</td>\n",
       "      <td>445175.034277</td>\n",
       "    </tr>\n",
       "    <tr>\n",
       "      <th>1962-01-04</th>\n",
       "      <td>5.03292</td>\n",
       "      <td>5.03292</td>\n",
       "      <td>4.98052</td>\n",
       "      <td>4.98052</td>\n",
       "      <td>399513.586679</td>\n",
       "    </tr>\n",
       "  </tbody>\n",
       "</table>\n",
       "</div>"
      ],
      "text/plain": [
       "               Open     High      Low    Close         Volume\n",
       "Date                                                         \n",
       "1962-01-02  5.04610  5.04610  4.98716  4.98716  593562.955237\n",
       "1962-01-03  4.98716  5.03292  4.98716  5.03292  445175.034277\n",
       "1962-01-04  5.03292  5.03292  4.98052  4.98052  399513.586679"
      ]
     },
     "execution_count": 93,
     "metadata": {},
     "output_type": "execute_result"
    }
   ],
   "source": [
    "stocks = pd.read_csv(\"ibm.csv\",parse_dates=[\"Date\"],index_col=[\"Date\"]).sort_index()\n",
    "stocks.head(3)"
   ]
  },
  {
   "cell_type": "code",
   "execution_count": 94,
   "metadata": {},
   "outputs": [
    {
     "name": "stdout",
     "output_type": "stream",
     "text": [
      "<class 'pandas.core.frame.DataFrame'>\n",
      "DatetimeIndex: 15546 entries, 1962-01-02 to 2023-10-11\n",
      "Data columns (total 5 columns):\n",
      " #   Column  Non-Null Count  Dtype  \n",
      "---  ------  --------------  -----  \n",
      " 0   Open    15546 non-null  float64\n",
      " 1   High    15546 non-null  float64\n",
      " 2   Low     15546 non-null  float64\n",
      " 3   Close   15546 non-null  float64\n",
      " 4   Volume  15545 non-null  float64\n",
      "dtypes: float64(5)\n",
      "memory usage: 728.7 KB\n"
     ]
    }
   ],
   "source": [
    "stocks.info()"
   ]
  },
  {
   "cell_type": "markdown",
   "metadata": {},
   "source": [
    "##### We can still fetch values purely based on index location using `iloc`. However directly using the dt accessors on indexes will be more helpful and also faster querying"
   ]
  },
  {
   "cell_type": "code",
   "execution_count": 95,
   "metadata": {},
   "outputs": [
    {
     "data": {
      "text/plain": [
       "Open      3.199750e+00\n",
       "High      3.213030e+00\n",
       "Low       3.121300e+00\n",
       "Close     3.121300e+00\n",
       "Volume    1.917670e+06\n",
       "Name: 1962-10-16 00:00:00, dtype: float64"
      ]
     },
     "execution_count": 95,
     "metadata": {},
     "output_type": "execute_result"
    }
   ],
   "source": [
    "stocks.iloc[200]"
   ]
  },
  {
   "cell_type": "code",
   "execution_count": 96,
   "metadata": {},
   "outputs": [
    {
     "data": {
      "text/plain": [
       "Open          143.61\n",
       "High          144.85\n",
       "Low           142.90\n",
       "Close         144.80\n",
       "Volume    2152172.00\n",
       "Name: 2023-01-10 00:00:00, dtype: float64"
      ]
     },
     "execution_count": 96,
     "metadata": {},
     "output_type": "execute_result"
    }
   ],
   "source": [
    "# stocks.loc[\"2023-01-10\"]\n",
    "stocks.loc[pd.Timestamp(2023,1,10)]"
   ]
  },
  {
   "cell_type": "code",
   "execution_count": 97,
   "metadata": {},
   "outputs": [
    {
     "data": {
      "text/html": [
       "<div>\n",
       "<style scoped>\n",
       "    .dataframe tbody tr th:only-of-type {\n",
       "        vertical-align: middle;\n",
       "    }\n",
       "\n",
       "    .dataframe tbody tr th {\n",
       "        vertical-align: top;\n",
       "    }\n",
       "\n",
       "    .dataframe thead th {\n",
       "        text-align: right;\n",
       "    }\n",
       "</style>\n",
       "<table border=\"1\" class=\"dataframe\">\n",
       "  <thead>\n",
       "    <tr style=\"text-align: right;\">\n",
       "      <th></th>\n",
       "      <th>Open</th>\n",
       "      <th>High</th>\n",
       "      <th>Low</th>\n",
       "      <th>Close</th>\n",
       "      <th>Volume</th>\n",
       "    </tr>\n",
       "    <tr>\n",
       "      <th>Date</th>\n",
       "      <th></th>\n",
       "      <th></th>\n",
       "      <th></th>\n",
       "      <th></th>\n",
       "      <th></th>\n",
       "    </tr>\n",
       "  </thead>\n",
       "  <tbody>\n",
       "    <tr>\n",
       "      <th>2022-10-05</th>\n",
       "      <td>123.241</td>\n",
       "      <td>124.970</td>\n",
       "      <td>122.7660</td>\n",
       "      <td>124.258</td>\n",
       "      <td>3.251179e+06</td>\n",
       "    </tr>\n",
       "    <tr>\n",
       "      <th>2022-10-06</th>\n",
       "      <td>123.409</td>\n",
       "      <td>123.824</td>\n",
       "      <td>120.3350</td>\n",
       "      <td>120.790</td>\n",
       "      <td>5.135128e+06</td>\n",
       "    </tr>\n",
       "    <tr>\n",
       "      <th>2022-10-07</th>\n",
       "      <td>120.068</td>\n",
       "      <td>120.366</td>\n",
       "      <td>116.6790</td>\n",
       "      <td>117.420</td>\n",
       "      <td>4.553321e+06</td>\n",
       "    </tr>\n",
       "    <tr>\n",
       "      <th>2022-10-10</th>\n",
       "      <td>118.379</td>\n",
       "      <td>118.547</td>\n",
       "      <td>115.6610</td>\n",
       "      <td>116.363</td>\n",
       "      <td>6.061426e+06</td>\n",
       "    </tr>\n",
       "    <tr>\n",
       "      <th>2022-10-11</th>\n",
       "      <td>116.076</td>\n",
       "      <td>117.825</td>\n",
       "      <td>115.5620</td>\n",
       "      <td>116.412</td>\n",
       "      <td>4.091472e+06</td>\n",
       "    </tr>\n",
       "    <tr>\n",
       "      <th>...</th>\n",
       "      <td>...</td>\n",
       "      <td>...</td>\n",
       "      <td>...</td>\n",
       "      <td>...</td>\n",
       "      <td>...</td>\n",
       "    </tr>\n",
       "    <tr>\n",
       "      <th>2022-12-29</th>\n",
       "      <td>140.580</td>\n",
       "      <td>142.260</td>\n",
       "      <td>140.4500</td>\n",
       "      <td>141.060</td>\n",
       "      <td>2.337207e+06</td>\n",
       "    </tr>\n",
       "    <tr>\n",
       "      <th>2022-12-30</th>\n",
       "      <td>140.540</td>\n",
       "      <td>140.900</td>\n",
       "      <td>139.4500</td>\n",
       "      <td>140.890</td>\n",
       "      <td>2.858110e+06</td>\n",
       "    </tr>\n",
       "    <tr>\n",
       "      <th>2023-01-03</th>\n",
       "      <td>141.100</td>\n",
       "      <td>141.900</td>\n",
       "      <td>140.4800</td>\n",
       "      <td>141.550</td>\n",
       "      <td>3.338829e+06</td>\n",
       "    </tr>\n",
       "    <tr>\n",
       "      <th>2023-01-04</th>\n",
       "      <td>142.070</td>\n",
       "      <td>143.615</td>\n",
       "      <td>141.3675</td>\n",
       "      <td>142.600</td>\n",
       "      <td>3.869236e+06</td>\n",
       "    </tr>\n",
       "    <tr>\n",
       "      <th>2023-01-05</th>\n",
       "      <td>142.440</td>\n",
       "      <td>142.498</td>\n",
       "      <td>140.0100</td>\n",
       "      <td>141.110</td>\n",
       "      <td>2.866648e+06</td>\n",
       "    </tr>\n",
       "  </tbody>\n",
       "</table>\n",
       "<p>64 rows × 5 columns</p>\n",
       "</div>"
      ],
      "text/plain": [
       "               Open     High       Low    Close        Volume\n",
       "Date                                                         \n",
       "2022-10-05  123.241  124.970  122.7660  124.258  3.251179e+06\n",
       "2022-10-06  123.409  123.824  120.3350  120.790  5.135128e+06\n",
       "2022-10-07  120.068  120.366  116.6790  117.420  4.553321e+06\n",
       "2022-10-10  118.379  118.547  115.6610  116.363  6.061426e+06\n",
       "2022-10-11  116.076  117.825  115.5620  116.412  4.091472e+06\n",
       "...             ...      ...       ...      ...           ...\n",
       "2022-12-29  140.580  142.260  140.4500  141.060  2.337207e+06\n",
       "2022-12-30  140.540  140.900  139.4500  140.890  2.858110e+06\n",
       "2023-01-03  141.100  141.900  140.4800  141.550  3.338829e+06\n",
       "2023-01-04  142.070  143.615  141.3675  142.600  3.869236e+06\n",
       "2023-01-05  142.440  142.498  140.0100  141.110  2.866648e+06\n",
       "\n",
       "[64 rows x 5 columns]"
      ]
     },
     "execution_count": 97,
     "metadata": {},
     "output_type": "execute_result"
    }
   ],
   "source": [
    "# we can also fetch over a range of dates\n",
    "stocks.loc[\"2022-10-05\":\"2023-01-05\"]"
   ]
  },
  {
   "cell_type": "code",
   "execution_count": 98,
   "metadata": {},
   "outputs": [
    {
     "data": {
      "text/html": [
       "<div>\n",
       "<style scoped>\n",
       "    .dataframe tbody tr th:only-of-type {\n",
       "        vertical-align: middle;\n",
       "    }\n",
       "\n",
       "    .dataframe tbody tr th {\n",
       "        vertical-align: top;\n",
       "    }\n",
       "\n",
       "    .dataframe thead th {\n",
       "        text-align: right;\n",
       "    }\n",
       "</style>\n",
       "<table border=\"1\" class=\"dataframe\">\n",
       "  <thead>\n",
       "    <tr style=\"text-align: right;\">\n",
       "      <th></th>\n",
       "      <th>Open</th>\n",
       "    </tr>\n",
       "    <tr>\n",
       "      <th>Date</th>\n",
       "      <th></th>\n",
       "    </tr>\n",
       "  </thead>\n",
       "  <tbody>\n",
       "    <tr>\n",
       "      <th>2022-10-05</th>\n",
       "      <td>123.241</td>\n",
       "    </tr>\n",
       "    <tr>\n",
       "      <th>2022-10-06</th>\n",
       "      <td>123.409</td>\n",
       "    </tr>\n",
       "    <tr>\n",
       "      <th>2022-10-07</th>\n",
       "      <td>120.068</td>\n",
       "    </tr>\n",
       "    <tr>\n",
       "      <th>2022-10-10</th>\n",
       "      <td>118.379</td>\n",
       "    </tr>\n",
       "    <tr>\n",
       "      <th>2022-10-11</th>\n",
       "      <td>116.076</td>\n",
       "    </tr>\n",
       "    <tr>\n",
       "      <th>...</th>\n",
       "      <td>...</td>\n",
       "    </tr>\n",
       "    <tr>\n",
       "      <th>2022-12-29</th>\n",
       "      <td>140.580</td>\n",
       "    </tr>\n",
       "    <tr>\n",
       "      <th>2022-12-30</th>\n",
       "      <td>140.540</td>\n",
       "    </tr>\n",
       "    <tr>\n",
       "      <th>2023-01-03</th>\n",
       "      <td>141.100</td>\n",
       "    </tr>\n",
       "    <tr>\n",
       "      <th>2023-01-04</th>\n",
       "      <td>142.070</td>\n",
       "    </tr>\n",
       "    <tr>\n",
       "      <th>2023-01-05</th>\n",
       "      <td>142.440</td>\n",
       "    </tr>\n",
       "  </tbody>\n",
       "</table>\n",
       "<p>64 rows × 1 columns</p>\n",
       "</div>"
      ],
      "text/plain": [
       "               Open\n",
       "Date               \n",
       "2022-10-05  123.241\n",
       "2022-10-06  123.409\n",
       "2022-10-07  120.068\n",
       "2022-10-10  118.379\n",
       "2022-10-11  116.076\n",
       "...             ...\n",
       "2022-12-29  140.580\n",
       "2022-12-30  140.540\n",
       "2023-01-03  141.100\n",
       "2023-01-04  142.070\n",
       "2023-01-05  142.440\n",
       "\n",
       "[64 rows x 1 columns]"
      ]
     },
     "execution_count": 98,
     "metadata": {},
     "output_type": "execute_result"
    }
   ],
   "source": [
    "stocks.loc[\"2022-10-05\":\"2023-01-05\",\"Open\"]\n",
    "# to return as a dataframe\n",
    "stocks.loc[\"2022-10-05\":\"2023-01-05\",[\"Open\"]]\n"
   ]
  },
  {
   "cell_type": "code",
   "execution_count": 99,
   "metadata": {},
   "outputs": [
    {
     "data": {
      "text/html": [
       "<div>\n",
       "<style scoped>\n",
       "    .dataframe tbody tr th:only-of-type {\n",
       "        vertical-align: middle;\n",
       "    }\n",
       "\n",
       "    .dataframe tbody tr th {\n",
       "        vertical-align: top;\n",
       "    }\n",
       "\n",
       "    .dataframe thead th {\n",
       "        text-align: right;\n",
       "    }\n",
       "</style>\n",
       "<table border=\"1\" class=\"dataframe\">\n",
       "  <thead>\n",
       "    <tr style=\"text-align: right;\">\n",
       "      <th></th>\n",
       "      <th>Open</th>\n",
       "      <th>High</th>\n",
       "      <th>Low</th>\n",
       "      <th>Close</th>\n",
       "      <th>Volume</th>\n",
       "    </tr>\n",
       "    <tr>\n",
       "      <th>Date</th>\n",
       "      <th></th>\n",
       "      <th></th>\n",
       "      <th></th>\n",
       "      <th></th>\n",
       "      <th></th>\n",
       "    </tr>\n",
       "  </thead>\n",
       "  <tbody>\n",
       "    <tr>\n",
       "      <th>2022-10-05</th>\n",
       "      <td>123.241</td>\n",
       "      <td>124.970</td>\n",
       "      <td>122.7660</td>\n",
       "      <td>124.258</td>\n",
       "      <td>3.251179e+06</td>\n",
       "    </tr>\n",
       "    <tr>\n",
       "      <th>2022-10-06</th>\n",
       "      <td>123.409</td>\n",
       "      <td>123.824</td>\n",
       "      <td>120.3350</td>\n",
       "      <td>120.790</td>\n",
       "      <td>5.135128e+06</td>\n",
       "    </tr>\n",
       "    <tr>\n",
       "      <th>2022-10-07</th>\n",
       "      <td>120.068</td>\n",
       "      <td>120.366</td>\n",
       "      <td>116.6790</td>\n",
       "      <td>117.420</td>\n",
       "      <td>4.553321e+06</td>\n",
       "    </tr>\n",
       "    <tr>\n",
       "      <th>2022-10-10</th>\n",
       "      <td>118.379</td>\n",
       "      <td>118.547</td>\n",
       "      <td>115.6610</td>\n",
       "      <td>116.363</td>\n",
       "      <td>6.061426e+06</td>\n",
       "    </tr>\n",
       "    <tr>\n",
       "      <th>2022-10-11</th>\n",
       "      <td>116.076</td>\n",
       "      <td>117.825</td>\n",
       "      <td>115.5620</td>\n",
       "      <td>116.412</td>\n",
       "      <td>4.091472e+06</td>\n",
       "    </tr>\n",
       "    <tr>\n",
       "      <th>...</th>\n",
       "      <td>...</td>\n",
       "      <td>...</td>\n",
       "      <td>...</td>\n",
       "      <td>...</td>\n",
       "      <td>...</td>\n",
       "    </tr>\n",
       "    <tr>\n",
       "      <th>2022-12-29</th>\n",
       "      <td>140.580</td>\n",
       "      <td>142.260</td>\n",
       "      <td>140.4500</td>\n",
       "      <td>141.060</td>\n",
       "      <td>2.337207e+06</td>\n",
       "    </tr>\n",
       "    <tr>\n",
       "      <th>2022-12-30</th>\n",
       "      <td>140.540</td>\n",
       "      <td>140.900</td>\n",
       "      <td>139.4500</td>\n",
       "      <td>140.890</td>\n",
       "      <td>2.858110e+06</td>\n",
       "    </tr>\n",
       "    <tr>\n",
       "      <th>2023-01-03</th>\n",
       "      <td>141.100</td>\n",
       "      <td>141.900</td>\n",
       "      <td>140.4800</td>\n",
       "      <td>141.550</td>\n",
       "      <td>3.338829e+06</td>\n",
       "    </tr>\n",
       "    <tr>\n",
       "      <th>2023-01-04</th>\n",
       "      <td>142.070</td>\n",
       "      <td>143.615</td>\n",
       "      <td>141.3675</td>\n",
       "      <td>142.600</td>\n",
       "      <td>3.869236e+06</td>\n",
       "    </tr>\n",
       "    <tr>\n",
       "      <th>2023-01-05</th>\n",
       "      <td>142.440</td>\n",
       "      <td>142.498</td>\n",
       "      <td>140.0100</td>\n",
       "      <td>141.110</td>\n",
       "      <td>2.866648e+06</td>\n",
       "    </tr>\n",
       "  </tbody>\n",
       "</table>\n",
       "<p>64 rows × 5 columns</p>\n",
       "</div>"
      ],
      "text/plain": [
       "               Open     High       Low    Close        Volume\n",
       "Date                                                         \n",
       "2022-10-05  123.241  124.970  122.7660  124.258  3.251179e+06\n",
       "2022-10-06  123.409  123.824  120.3350  120.790  5.135128e+06\n",
       "2022-10-07  120.068  120.366  116.6790  117.420  4.553321e+06\n",
       "2022-10-10  118.379  118.547  115.6610  116.363  6.061426e+06\n",
       "2022-10-11  116.076  117.825  115.5620  116.412  4.091472e+06\n",
       "...             ...      ...       ...      ...           ...\n",
       "2022-12-29  140.580  142.260  140.4500  141.060  2.337207e+06\n",
       "2022-12-30  140.540  140.900  139.4500  140.890  2.858110e+06\n",
       "2023-01-03  141.100  141.900  140.4800  141.550  3.338829e+06\n",
       "2023-01-04  142.070  143.615  141.3675  142.600  3.869236e+06\n",
       "2023-01-05  142.440  142.498  140.0100  141.110  2.866648e+06\n",
       "\n",
       "[64 rows x 5 columns]"
      ]
     },
     "execution_count": 99,
     "metadata": {},
     "output_type": "execute_result"
    }
   ],
   "source": [
    "stocks.truncate(\"2022-10-05\",\"2023-01-05\")"
   ]
  },
  {
   "cell_type": "markdown",
   "metadata": {},
   "source": [
    "## The DateOffset Object\n",
    "- A **DateOffset** object adds time to a **Timestamp** to arrive at a new **Timestamp**.\n",
    "- The **DateOffset** constructor accepts `days`, `weeks`, `months`, `years` parameters, and more.\n",
    "- We can pass a **DateOffset** object to the `freq` parameter of the `pd.date_range` function."
   ]
  },
  {
   "cell_type": "code",
   "execution_count": 100,
   "metadata": {},
   "outputs": [
    {
     "data": {
      "text/plain": [
       "DatetimeIndex(['1963-03-02 06:00:00', '1963-03-03 06:00:00',\n",
       "               '1963-03-04 06:00:00', '1963-03-05 06:00:00',\n",
       "               '1963-03-08 06:00:00', '1963-03-09 06:00:00',\n",
       "               '1963-03-10 06:00:00', '1963-03-11 06:00:00',\n",
       "               '1963-03-12 06:00:00', '1963-03-15 06:00:00',\n",
       "               ...\n",
       "               '2024-11-28 06:00:00', '2024-11-29 06:00:00',\n",
       "               '2024-12-02 06:00:00', '2024-12-03 06:00:00',\n",
       "               '2024-12-04 06:00:00', '2024-12-05 06:00:00',\n",
       "               '2024-12-06 06:00:00', '2024-12-09 06:00:00',\n",
       "               '2024-12-10 06:00:00', '2024-12-11 06:00:00'],\n",
       "              dtype='datetime64[ns]', name='Date', length=15546, freq=None)"
      ]
     },
     "execution_count": 100,
     "metadata": {},
     "output_type": "execute_result"
    }
   ],
   "source": [
    "# Adding an offset of 2 days to indexes\n",
    "stocks.index + pd.DateOffset(days=2)\n",
    "# Moving back in time with an offset of 2 years\n",
    "stocks.index - pd.DateOffset(years=2)\n",
    "# Adding offset of 5hrs to time\n",
    "stocks.index - pd.DateOffset(hours=6)\n",
    "# Adding multiple parameters as offset\n",
    "stocks.index + pd.DateOffset(years=1,months=2,hours=6)"
   ]
  },
  {
   "cell_type": "markdown",
   "metadata": {},
   "source": [
    "### Find the IBM stock price on 15th Jan of each year\n",
    "Using `DateOffset` first create a sample datetime index. This will be later used as condition filter.<br>\n",
    "For the `freq` param , we'll pass the `DateOffset` module with an yearly interval to account for leap years in he date range"
   ]
  },
  {
   "cell_type": "code",
   "execution_count": 101,
   "metadata": {},
   "outputs": [
    {
     "data": {
      "text/plain": [
       "pandas.core.indexes.datetimes.DatetimeIndex"
      ]
     },
     "execution_count": 101,
     "metadata": {},
     "output_type": "execute_result"
    }
   ],
   "source": [
    "# Creating a sample datetime index that will be used as a filtering condition\n",
    "pd.date_range(start=\"1962-01-15\",end=\"2023-09-15\",freq=pd.DateOffset(years=1))\n",
    "type(pd.date_range(start=\"1962-01-15\",end=\"2023-09-15\",freq=pd.DateOffset(years=1)))"
   ]
  },
  {
   "cell_type": "code",
   "execution_count": 102,
   "metadata": {},
   "outputs": [
    {
     "data": {
      "text/plain": [
       "DatetimeIndex(['1962-01-15', '1963-01-15', '1964-01-15', '1965-01-15',\n",
       "               '1966-01-15', '1967-01-15', '1968-01-15', '1969-01-15',\n",
       "               '1970-01-15', '1971-01-15', '1972-01-15', '1973-01-15',\n",
       "               '1974-01-15', '1975-01-15', '1976-01-15', '1977-01-15',\n",
       "               '1978-01-15', '1979-01-15', '1980-01-15', '1981-01-15',\n",
       "               '1982-01-15', '1983-01-15', '1984-01-15', '1985-01-15',\n",
       "               '1986-01-15', '1987-01-15', '1988-01-15', '1989-01-15',\n",
       "               '1990-01-15', '1991-01-15', '1992-01-15', '1993-01-15',\n",
       "               '1994-01-15', '1995-01-15', '1996-01-15', '1997-01-15',\n",
       "               '1998-01-15', '1999-01-15', '2000-01-15', '2001-01-15',\n",
       "               '2002-01-15', '2003-01-15', '2004-01-15', '2005-01-15',\n",
       "               '2006-01-15', '2007-01-15', '2008-01-15', '2009-01-15',\n",
       "               '2010-01-15', '2011-01-15', '2012-01-15', '2013-01-15',\n",
       "               '2014-01-15', '2015-01-15', '2016-01-15', '2017-01-15',\n",
       "               '2018-01-15', '2019-01-15', '2020-01-15', '2021-01-15',\n",
       "               '2022-01-15', '2023-01-15'],\n",
       "              dtype='datetime64[ns]', freq='<DateOffset: years=1>')"
      ]
     },
     "execution_count": 102,
     "metadata": {},
     "output_type": "execute_result"
    }
   ],
   "source": [
    "# Assigning to a variable to be used as a condition\n",
    "jan = pd.date_range(start=\"1962-01-15\",end=\"2023-09-15\",freq=pd.DateOffset(years=1))\n",
    "jan"
   ]
  },
  {
   "cell_type": "code",
   "execution_count": 103,
   "metadata": {},
   "outputs": [
    {
     "data": {
      "text/plain": [
       "array([False, False, False, ..., False, False, False], shape=(15546,))"
      ]
     },
     "execution_count": 103,
     "metadata": {},
     "output_type": "execute_result"
    }
   ],
   "source": [
    "stocks.index.isin(jan)"
   ]
  },
  {
   "cell_type": "code",
   "execution_count": 104,
   "metadata": {},
   "outputs": [
    {
     "data": {
      "text/html": [
       "<div>\n",
       "<style scoped>\n",
       "    .dataframe tbody tr th:only-of-type {\n",
       "        vertical-align: middle;\n",
       "    }\n",
       "\n",
       "    .dataframe tbody tr th {\n",
       "        vertical-align: top;\n",
       "    }\n",
       "\n",
       "    .dataframe thead th {\n",
       "        text-align: right;\n",
       "    }\n",
       "</style>\n",
       "<table border=\"1\" class=\"dataframe\">\n",
       "  <thead>\n",
       "    <tr style=\"text-align: right;\">\n",
       "      <th></th>\n",
       "      <th>Open</th>\n",
       "      <th>High</th>\n",
       "      <th>Low</th>\n",
       "      <th>Close</th>\n",
       "      <th>Volume</th>\n",
       "    </tr>\n",
       "    <tr>\n",
       "      <th>Date</th>\n",
       "      <th></th>\n",
       "      <th></th>\n",
       "      <th></th>\n",
       "      <th></th>\n",
       "      <th></th>\n",
       "    </tr>\n",
       "  </thead>\n",
       "  <tbody>\n",
       "    <tr>\n",
       "      <th>1962-01-15</th>\n",
       "      <td>4.93436</td>\n",
       "      <td>4.95417</td>\n",
       "      <td>4.93436</td>\n",
       "      <td>4.94099</td>\n",
       "      <td>3.880987e+05</td>\n",
       "    </tr>\n",
       "    <tr>\n",
       "      <th>1963-01-15</th>\n",
       "      <td>3.61374</td>\n",
       "      <td>3.64643</td>\n",
       "      <td>3.60076</td>\n",
       "      <td>3.62018</td>\n",
       "      <td>3.173292e+06</td>\n",
       "    </tr>\n",
       "    <tr>\n",
       "      <th>1964-01-15</th>\n",
       "      <td>4.73761</td>\n",
       "      <td>4.89503</td>\n",
       "      <td>4.73761</td>\n",
       "      <td>4.89503</td>\n",
       "      <td>2.374262e+06</td>\n",
       "    </tr>\n",
       "    <tr>\n",
       "      <th>1965-01-15</th>\n",
       "      <td>4.67837</td>\n",
       "      <td>4.74376</td>\n",
       "      <td>4.67837</td>\n",
       "      <td>4.73761</td>\n",
       "      <td>8.766492e+05</td>\n",
       "    </tr>\n",
       "    <tr>\n",
       "      <th>1968-01-15</th>\n",
       "      <td>10.10470</td>\n",
       "      <td>10.23550</td>\n",
       "      <td>10.10470</td>\n",
       "      <td>10.19060</td>\n",
       "      <td>7.366277e+05</td>\n",
       "    </tr>\n",
       "    <tr>\n",
       "      <th>1969-01-15</th>\n",
       "      <td>10.09400</td>\n",
       "      <td>10.12620</td>\n",
       "      <td>10.03830</td>\n",
       "      <td>10.09980</td>\n",
       "      <td>6.331358e+05</td>\n",
       "    </tr>\n",
       "    <tr>\n",
       "      <th>1970-01-15</th>\n",
       "      <td>12.26930</td>\n",
       "      <td>12.47610</td>\n",
       "      <td>12.26930</td>\n",
       "      <td>12.47610</td>\n",
       "      <td>6.422697e+05</td>\n",
       "    </tr>\n",
       "    <tr>\n",
       "      <th>1971-01-15</th>\n",
       "      <td>10.28910</td>\n",
       "      <td>10.29990</td>\n",
       "      <td>10.13980</td>\n",
       "      <td>10.13980</td>\n",
       "      <td>1.095810e+06</td>\n",
       "    </tr>\n",
       "    <tr>\n",
       "      <th>1973-01-15</th>\n",
       "      <td>13.82490</td>\n",
       "      <td>14.03760</td>\n",
       "      <td>13.82490</td>\n",
       "      <td>13.84540</td>\n",
       "      <td>2.091176e+06</td>\n",
       "    </tr>\n",
       "    <tr>\n",
       "      <th>1974-01-15</th>\n",
       "      <td>9.69188</td>\n",
       "      <td>9.89977</td>\n",
       "      <td>9.67138</td>\n",
       "      <td>9.77776</td>\n",
       "      <td>9.886643e+05</td>\n",
       "    </tr>\n",
       "    <tr>\n",
       "      <th>1975-01-15</th>\n",
       "      <td>6.87927</td>\n",
       "      <td>6.95159</td>\n",
       "      <td>6.43923</td>\n",
       "      <td>6.68194</td>\n",
       "      <td>5.267210e+06</td>\n",
       "    </tr>\n",
       "    <tr>\n",
       "      <th>1976-01-15</th>\n",
       "      <td>9.86364</td>\n",
       "      <td>9.92704</td>\n",
       "      <td>9.77190</td>\n",
       "      <td>9.79826</td>\n",
       "      <td>3.501734e+06</td>\n",
       "    </tr>\n",
       "    <tr>\n",
       "      <th>1979-01-15</th>\n",
       "      <td>12.78750</td>\n",
       "      <td>12.93290</td>\n",
       "      <td>12.76410</td>\n",
       "      <td>12.90370</td>\n",
       "      <td>5.259905e+06</td>\n",
       "    </tr>\n",
       "    <tr>\n",
       "      <th>1980-01-15</th>\n",
       "      <td>10.94010</td>\n",
       "      <td>11.49050</td>\n",
       "      <td>10.88250</td>\n",
       "      <td>11.47000</td>\n",
       "      <td>5.707364e+06</td>\n",
       "    </tr>\n",
       "    <tr>\n",
       "      <th>1981-01-15</th>\n",
       "      <td>10.91960</td>\n",
       "      <td>10.91960</td>\n",
       "      <td>10.73810</td>\n",
       "      <td>10.75470</td>\n",
       "      <td>2.774234e+06</td>\n",
       "    </tr>\n",
       "    <tr>\n",
       "      <th>1982-01-15</th>\n",
       "      <td>9.71042</td>\n",
       "      <td>9.83631</td>\n",
       "      <td>9.57379</td>\n",
       "      <td>9.77776</td>\n",
       "      <td>9.308938e+06</td>\n",
       "    </tr>\n",
       "    <tr>\n",
       "      <th>1985-01-15</th>\n",
       "      <td>20.49530</td>\n",
       "      <td>20.55300</td>\n",
       "      <td>20.31080</td>\n",
       "      <td>20.38800</td>\n",
       "      <td>9.898847e+06</td>\n",
       "    </tr>\n",
       "    <tr>\n",
       "      <th>1986-01-15</th>\n",
       "      <td>24.46240</td>\n",
       "      <td>24.99330</td>\n",
       "      <td>24.42140</td>\n",
       "      <td>24.97680</td>\n",
       "      <td>8.484030e+06</td>\n",
       "    </tr>\n",
       "    <tr>\n",
       "      <th>1987-01-15</th>\n",
       "      <td>19.44810</td>\n",
       "      <td>19.86200</td>\n",
       "      <td>19.42870</td>\n",
       "      <td>19.63560</td>\n",
       "      <td>1.668072e+07</td>\n",
       "    </tr>\n",
       "    <tr>\n",
       "      <th>1988-01-15</th>\n",
       "      <td>19.37010</td>\n",
       "      <td>19.67460</td>\n",
       "      <td>19.37010</td>\n",
       "      <td>19.47450</td>\n",
       "      <td>1.705695e+07</td>\n",
       "    </tr>\n",
       "    <tr>\n",
       "      <th>1990-01-15</th>\n",
       "      <td>15.97200</td>\n",
       "      <td>16.09790</td>\n",
       "      <td>15.91240</td>\n",
       "      <td>16.05590</td>\n",
       "      <td>6.142034e+06</td>\n",
       "    </tr>\n",
       "    <tr>\n",
       "      <th>1991-01-15</th>\n",
       "      <td>17.49050</td>\n",
       "      <td>17.63400</td>\n",
       "      <td>17.47290</td>\n",
       "      <td>17.59780</td>\n",
       "      <td>7.111220e+06</td>\n",
       "    </tr>\n",
       "    <tr>\n",
       "      <th>1992-01-15</th>\n",
       "      <td>15.38150</td>\n",
       "      <td>15.67140</td>\n",
       "      <td>15.30250</td>\n",
       "      <td>15.60890</td>\n",
       "      <td>1.889609e+07</td>\n",
       "    </tr>\n",
       "    <tr>\n",
       "      <th>1993-01-15</th>\n",
       "      <td>7.89813</td>\n",
       "      <td>8.02285</td>\n",
       "      <td>7.81245</td>\n",
       "      <td>7.89813</td>\n",
       "      <td>2.053555e+07</td>\n",
       "    </tr>\n",
       "    <tr>\n",
       "      <th>1996-01-15</th>\n",
       "      <td>14.16070</td>\n",
       "      <td>14.16070</td>\n",
       "      <td>13.60440</td>\n",
       "      <td>13.60440</td>\n",
       "      <td>2.278562e+07</td>\n",
       "    </tr>\n",
       "    <tr>\n",
       "      <th>1997-01-15</th>\n",
       "      <td>27.23700</td>\n",
       "      <td>27.55620</td>\n",
       "      <td>26.74310</td>\n",
       "      <td>26.94810</td>\n",
       "      <td>2.695823e+07</td>\n",
       "    </tr>\n",
       "    <tr>\n",
       "      <th>1998-01-15</th>\n",
       "      <td>33.77670</td>\n",
       "      <td>34.34960</td>\n",
       "      <td>33.51510</td>\n",
       "      <td>33.86540</td>\n",
       "      <td>1.924279e+07</td>\n",
       "    </tr>\n",
       "    <tr>\n",
       "      <th>1999-01-15</th>\n",
       "      <td>59.65710</td>\n",
       "      <td>60.72380</td>\n",
       "      <td>59.33700</td>\n",
       "      <td>60.54030</td>\n",
       "      <td>1.033352e+07</td>\n",
       "    </tr>\n",
       "    <tr>\n",
       "      <th>2002-01-15</th>\n",
       "      <td>77.57410</td>\n",
       "      <td>78.64660</td>\n",
       "      <td>77.34960</td>\n",
       "      <td>78.08640</td>\n",
       "      <td>8.580220e+06</td>\n",
       "    </tr>\n",
       "    <tr>\n",
       "      <th>2003-01-15</th>\n",
       "      <td>58.20300</td>\n",
       "      <td>58.24590</td>\n",
       "      <td>57.12950</td>\n",
       "      <td>57.55110</td>\n",
       "      <td>1.240050e+07</td>\n",
       "    </tr>\n",
       "    <tr>\n",
       "      <th>2004-01-15</th>\n",
       "      <td>62.46580</td>\n",
       "      <td>62.84640</td>\n",
       "      <td>61.46460</td>\n",
       "      <td>61.77290</td>\n",
       "      <td>3.015040e+07</td>\n",
       "    </tr>\n",
       "    <tr>\n",
       "      <th>2008-01-15</th>\n",
       "      <td>67.03700</td>\n",
       "      <td>68.75370</td>\n",
       "      <td>66.51300</td>\n",
       "      <td>66.90730</td>\n",
       "      <td>1.769942e+07</td>\n",
       "    </tr>\n",
       "    <tr>\n",
       "      <th>2009-01-15</th>\n",
       "      <td>54.93560</td>\n",
       "      <td>55.73780</td>\n",
       "      <td>54.04460</td>\n",
       "      <td>55.27130</td>\n",
       "      <td>1.785936e+07</td>\n",
       "    </tr>\n",
       "    <tr>\n",
       "      <th>2010-01-15</th>\n",
       "      <td>86.75170</td>\n",
       "      <td>87.31670</td>\n",
       "      <td>86.12120</td>\n",
       "      <td>86.59640</td>\n",
       "      <td>1.292720e+07</td>\n",
       "    </tr>\n",
       "    <tr>\n",
       "      <th>2013-01-15</th>\n",
       "      <td>129.46500</td>\n",
       "      <td>130.41200</td>\n",
       "      <td>128.83100</td>\n",
       "      <td>130.26600</td>\n",
       "      <td>6.165020e+06</td>\n",
       "    </tr>\n",
       "    <tr>\n",
       "      <th>2014-01-15</th>\n",
       "      <td>128.17800</td>\n",
       "      <td>130.14900</td>\n",
       "      <td>127.96300</td>\n",
       "      <td>129.52500</td>\n",
       "      <td>7.000402e+06</td>\n",
       "    </tr>\n",
       "    <tr>\n",
       "      <th>2015-01-15</th>\n",
       "      <td>110.72800</td>\n",
       "      <td>110.92300</td>\n",
       "      <td>108.93200</td>\n",
       "      <td>109.22500</td>\n",
       "      <td>6.017086e+06</td>\n",
       "    </tr>\n",
       "    <tr>\n",
       "      <th>2016-01-15</th>\n",
       "      <td>94.85570</td>\n",
       "      <td>95.48420</td>\n",
       "      <td>94.01930</td>\n",
       "      <td>94.87520</td>\n",
       "      <td>1.230158e+07</td>\n",
       "    </tr>\n",
       "    <tr>\n",
       "      <th>2019-01-15</th>\n",
       "      <td>99.48580</td>\n",
       "      <td>100.29500</td>\n",
       "      <td>99.37810</td>\n",
       "      <td>100.12900</td>\n",
       "      <td>4.264914e+06</td>\n",
       "    </tr>\n",
       "    <tr>\n",
       "      <th>2020-01-15</th>\n",
       "      <td>117.21800</td>\n",
       "      <td>118.98400</td>\n",
       "      <td>116.97400</td>\n",
       "      <td>117.76500</td>\n",
       "      <td>4.694185e+06</td>\n",
       "    </tr>\n",
       "    <tr>\n",
       "      <th>2021-01-15</th>\n",
       "      <td>116.36900</td>\n",
       "      <td>117.23700</td>\n",
       "      <td>115.81200</td>\n",
       "      <td>116.46600</td>\n",
       "      <td>5.407845e+06</td>\n",
       "    </tr>\n",
       "  </tbody>\n",
       "</table>\n",
       "</div>"
      ],
      "text/plain": [
       "                 Open       High        Low      Close        Volume\n",
       "Date                                                                \n",
       "1962-01-15    4.93436    4.95417    4.93436    4.94099  3.880987e+05\n",
       "1963-01-15    3.61374    3.64643    3.60076    3.62018  3.173292e+06\n",
       "1964-01-15    4.73761    4.89503    4.73761    4.89503  2.374262e+06\n",
       "1965-01-15    4.67837    4.74376    4.67837    4.73761  8.766492e+05\n",
       "1968-01-15   10.10470   10.23550   10.10470   10.19060  7.366277e+05\n",
       "1969-01-15   10.09400   10.12620   10.03830   10.09980  6.331358e+05\n",
       "1970-01-15   12.26930   12.47610   12.26930   12.47610  6.422697e+05\n",
       "1971-01-15   10.28910   10.29990   10.13980   10.13980  1.095810e+06\n",
       "1973-01-15   13.82490   14.03760   13.82490   13.84540  2.091176e+06\n",
       "1974-01-15    9.69188    9.89977    9.67138    9.77776  9.886643e+05\n",
       "1975-01-15    6.87927    6.95159    6.43923    6.68194  5.267210e+06\n",
       "1976-01-15    9.86364    9.92704    9.77190    9.79826  3.501734e+06\n",
       "1979-01-15   12.78750   12.93290   12.76410   12.90370  5.259905e+06\n",
       "1980-01-15   10.94010   11.49050   10.88250   11.47000  5.707364e+06\n",
       "1981-01-15   10.91960   10.91960   10.73810   10.75470  2.774234e+06\n",
       "1982-01-15    9.71042    9.83631    9.57379    9.77776  9.308938e+06\n",
       "1985-01-15   20.49530   20.55300   20.31080   20.38800  9.898847e+06\n",
       "1986-01-15   24.46240   24.99330   24.42140   24.97680  8.484030e+06\n",
       "1987-01-15   19.44810   19.86200   19.42870   19.63560  1.668072e+07\n",
       "1988-01-15   19.37010   19.67460   19.37010   19.47450  1.705695e+07\n",
       "1990-01-15   15.97200   16.09790   15.91240   16.05590  6.142034e+06\n",
       "1991-01-15   17.49050   17.63400   17.47290   17.59780  7.111220e+06\n",
       "1992-01-15   15.38150   15.67140   15.30250   15.60890  1.889609e+07\n",
       "1993-01-15    7.89813    8.02285    7.81245    7.89813  2.053555e+07\n",
       "1996-01-15   14.16070   14.16070   13.60440   13.60440  2.278562e+07\n",
       "1997-01-15   27.23700   27.55620   26.74310   26.94810  2.695823e+07\n",
       "1998-01-15   33.77670   34.34960   33.51510   33.86540  1.924279e+07\n",
       "1999-01-15   59.65710   60.72380   59.33700   60.54030  1.033352e+07\n",
       "2002-01-15   77.57410   78.64660   77.34960   78.08640  8.580220e+06\n",
       "2003-01-15   58.20300   58.24590   57.12950   57.55110  1.240050e+07\n",
       "2004-01-15   62.46580   62.84640   61.46460   61.77290  3.015040e+07\n",
       "2008-01-15   67.03700   68.75370   66.51300   66.90730  1.769942e+07\n",
       "2009-01-15   54.93560   55.73780   54.04460   55.27130  1.785936e+07\n",
       "2010-01-15   86.75170   87.31670   86.12120   86.59640  1.292720e+07\n",
       "2013-01-15  129.46500  130.41200  128.83100  130.26600  6.165020e+06\n",
       "2014-01-15  128.17800  130.14900  127.96300  129.52500  7.000402e+06\n",
       "2015-01-15  110.72800  110.92300  108.93200  109.22500  6.017086e+06\n",
       "2016-01-15   94.85570   95.48420   94.01930   94.87520  1.230158e+07\n",
       "2019-01-15   99.48580  100.29500   99.37810  100.12900  4.264914e+06\n",
       "2020-01-15  117.21800  118.98400  116.97400  117.76500  4.694185e+06\n",
       "2021-01-15  116.36900  117.23700  115.81200  116.46600  5.407845e+06"
      ]
     },
     "execution_count": 104,
     "metadata": {},
     "output_type": "execute_result"
    }
   ],
   "source": [
    "# This has pulled all records -- if available -- into the dataframe\n",
    "# Note that there are 'missing' years for e.g. for 1966 & 1967 where there might not be 15-th Jan date available\n",
    "stocks[stocks.index.isin(jan)]"
   ]
  },
  {
   "cell_type": "markdown",
   "metadata": {},
   "source": [
    "## Specialized Date Offsets\n",
    "- Pandas nests more specialized date offsets in `pd.tseries.offsets`.\n",
    "- We can add a different amount of time to each date (for example, month end, quarter end, year begin)\n",
    "- Useful when we want to add / subtract by a specialized amount of time offset"
   ]
  },
  {
   "cell_type": "code",
   "execution_count": 105,
   "metadata": {},
   "outputs": [
    {
     "data": {
      "text/plain": [
       "DatetimeIndex(['1962-01-31', '1962-01-31', '1962-01-31', '1962-01-31',\n",
       "               '1962-01-31', '1962-01-31', '1962-01-31', '1962-01-31',\n",
       "               '1962-01-31', '1962-01-31',\n",
       "               ...\n",
       "               '2023-09-30', '2023-09-30', '2023-10-31', '2023-10-31',\n",
       "               '2023-10-31', '2023-10-31', '2023-10-31', '2023-10-31',\n",
       "               '2023-10-31', '2023-10-31'],\n",
       "              dtype='datetime64[ns]', name='Date', length=15546, freq=None)"
      ]
     },
     "execution_count": 105,
     "metadata": {},
     "output_type": "execute_result"
    }
   ],
   "source": [
    "stocks.index + pd.tseries.offsets.MonthEnd()"
   ]
  },
  {
   "cell_type": "code",
   "execution_count": 106,
   "metadata": {},
   "outputs": [
    {
     "data": {
      "text/plain": [
       "DatetimeIndex(['1962-01-31', '1962-01-31', '1962-01-31', '1962-01-31',\n",
       "               '1962-01-31', '1962-01-31', '1962-01-31', '1962-01-31',\n",
       "               '1962-01-31', '1962-01-31',\n",
       "               ...\n",
       "               '2023-10-31', '2023-10-31', '2023-10-31', '2023-10-31',\n",
       "               '2023-10-31', '2023-10-31', '2023-10-31', '2023-10-31',\n",
       "               '2023-10-31', '2023-10-31'],\n",
       "              dtype='datetime64[ns]', name='Date', length=15546, freq=None)"
      ]
     },
     "execution_count": 106,
     "metadata": {},
     "output_type": "execute_result"
    }
   ],
   "source": [
    "stocks.index + pd.tseries.offsets.QuarterEnd()\n",
    "stocks.index + pd.tseries.offsets.QuarterEnd(startingMonth=1)"
   ]
  },
  {
   "cell_type": "code",
   "execution_count": 107,
   "metadata": {},
   "outputs": [
    {
     "data": {
      "text/plain": [
       "DatetimeIndex(['1963-01-01', '1963-01-01', '1963-01-01', '1963-01-01',\n",
       "               '1963-01-01', '1963-01-01', '1963-01-01', '1963-01-01',\n",
       "               '1963-01-01', '1963-01-01',\n",
       "               ...\n",
       "               '2024-01-01', '2024-01-01', '2024-01-01', '2024-01-01',\n",
       "               '2024-01-01', '2024-01-01', '2024-01-01', '2024-01-01',\n",
       "               '2024-01-01', '2024-01-01'],\n",
       "              dtype='datetime64[ns]', name='Date', length=15546, freq=None)"
      ]
     },
     "execution_count": 107,
     "metadata": {},
     "output_type": "execute_result"
    }
   ],
   "source": [
    "stocks.index + pd.tseries.offsets.YearBegin()"
   ]
  },
  {
   "cell_type": "code",
   "execution_count": null,
   "metadata": {},
   "outputs": [],
   "source": []
  },
  {
   "cell_type": "markdown",
   "metadata": {},
   "source": [
    "## Timedeltas\n",
    "- A **Timedelta** is a pandas object that represents a duration (an amount of time).\n",
    "- Subtracting two **Timestamp** objects will yield a **Timedelta** object (this applies to subtracting a **Series** from another **Series**).\n",
    "- The **Timedelta** constructor accepts parameters for time as well as string descriptions.\n",
    "##### Timedelta represents timespan i.e. differences between two instances of time"
   ]
  },
  {
   "cell_type": "code",
   "execution_count": 108,
   "metadata": {},
   "outputs": [
    {
     "data": {
      "text/plain": [
       "Timedelta('12 days 00:00:00')"
      ]
     },
     "execution_count": 108,
     "metadata": {},
     "output_type": "execute_result"
    }
   ],
   "source": [
    "# TimeDelta between two dates (25th May & 13th May)\n",
    "pd.Timestamp(2025,5,25) - pd.Timestamp(2025,5,13)"
   ]
  },
  {
   "cell_type": "code",
   "execution_count": 109,
   "metadata": {},
   "outputs": [
    {
     "data": {
      "text/plain": [
       "Timedelta('-12 days +00:00:00')"
      ]
     },
     "execution_count": 109,
     "metadata": {},
     "output_type": "execute_result"
    }
   ],
   "source": [
    "pd.Timestamp(2025,5,13) - pd.Timestamp(2025,5,25)"
   ]
  },
  {
   "cell_type": "code",
   "execution_count": 110,
   "metadata": {},
   "outputs": [
    {
     "data": {
      "text/plain": [
       "pandas._libs.tslibs.timedeltas.Timedelta"
      ]
     },
     "execution_count": 110,
     "metadata": {},
     "output_type": "execute_result"
    }
   ],
   "source": [
    "type(pd.Timestamp(2025,5,25) - pd.Timestamp(2025,5,13))"
   ]
  },
  {
   "cell_type": "code",
   "execution_count": 111,
   "metadata": {},
   "outputs": [
    {
     "data": {
      "text/plain": [
       "Timedelta('0 days 06:00:00')"
      ]
     },
     "execution_count": 111,
     "metadata": {},
     "output_type": "execute_result"
    }
   ],
   "source": [
    "# Timedelta between timestamps on same day (9:30AM to 3::30PM)\n",
    "pd.Timestamp(2025,5,5,15,30,00) - pd.Timestamp(2025,5,5,9,30,00)"
   ]
  },
  {
   "cell_type": "markdown",
   "metadata": {},
   "source": [
    "##### Just like DateOffset, we can create an a TimeDelta object that represents a difference of some time (or date or a combination of both)"
   ]
  },
  {
   "cell_type": "code",
   "execution_count": 112,
   "metadata": {},
   "outputs": [
    {
     "data": {
      "text/plain": [
       "Timedelta('2 days 12:00:00')"
      ]
     },
     "execution_count": 112,
     "metadata": {},
     "output_type": "execute_result"
    }
   ],
   "source": [
    "# Timedelta object represnting a difference of 2days 12hrs\n",
    "pd.Timedelta(days=2,hours=12)"
   ]
  },
  {
   "cell_type": "code",
   "execution_count": 113,
   "metadata": {},
   "outputs": [
    {
     "data": {
      "text/plain": [
       "Timedelta('0 days 05:00:00')"
      ]
     },
     "execution_count": 113,
     "metadata": {},
     "output_type": "execute_result"
    }
   ],
   "source": [
    "pd.Timedelta(\"5 hours\")"
   ]
  },
  {
   "cell_type": "markdown",
   "metadata": {},
   "source": [
    "#### In the ecommerce dataset, we can use timedelta object to find the differnce between a customer ordering an item & recieving it. The ones with a large timedelta value would be a focus area for the delivery/ logistics team "
   ]
  },
  {
   "cell_type": "code",
   "execution_count": 114,
   "metadata": {},
   "outputs": [
    {
     "data": {
      "text/html": [
       "<div>\n",
       "<style scoped>\n",
       "    .dataframe tbody tr th:only-of-type {\n",
       "        vertical-align: middle;\n",
       "    }\n",
       "\n",
       "    .dataframe tbody tr th {\n",
       "        vertical-align: top;\n",
       "    }\n",
       "\n",
       "    .dataframe thead th {\n",
       "        text-align: right;\n",
       "    }\n",
       "</style>\n",
       "<table border=\"1\" class=\"dataframe\">\n",
       "  <thead>\n",
       "    <tr style=\"text-align: right;\">\n",
       "      <th></th>\n",
       "      <th>ID</th>\n",
       "      <th>order_date</th>\n",
       "      <th>delivery_date</th>\n",
       "    </tr>\n",
       "  </thead>\n",
       "  <tbody>\n",
       "    <tr>\n",
       "      <th>0</th>\n",
       "      <td>1</td>\n",
       "      <td>5/24/98</td>\n",
       "      <td>2/5/99</td>\n",
       "    </tr>\n",
       "    <tr>\n",
       "      <th>1</th>\n",
       "      <td>2</td>\n",
       "      <td>4/22/92</td>\n",
       "      <td>3/6/98</td>\n",
       "    </tr>\n",
       "    <tr>\n",
       "      <th>2</th>\n",
       "      <td>4</td>\n",
       "      <td>2/10/91</td>\n",
       "      <td>8/26/92</td>\n",
       "    </tr>\n",
       "    <tr>\n",
       "      <th>3</th>\n",
       "      <td>5</td>\n",
       "      <td>7/21/92</td>\n",
       "      <td>11/20/97</td>\n",
       "    </tr>\n",
       "    <tr>\n",
       "      <th>4</th>\n",
       "      <td>7</td>\n",
       "      <td>9/2/93</td>\n",
       "      <td>6/10/98</td>\n",
       "    </tr>\n",
       "    <tr>\n",
       "      <th>...</th>\n",
       "      <td>...</td>\n",
       "      <td>...</td>\n",
       "      <td>...</td>\n",
       "    </tr>\n",
       "    <tr>\n",
       "      <th>496</th>\n",
       "      <td>990</td>\n",
       "      <td>6/24/91</td>\n",
       "      <td>2/2/96</td>\n",
       "    </tr>\n",
       "    <tr>\n",
       "      <th>497</th>\n",
       "      <td>991</td>\n",
       "      <td>9/9/91</td>\n",
       "      <td>3/30/98</td>\n",
       "    </tr>\n",
       "    <tr>\n",
       "      <th>498</th>\n",
       "      <td>993</td>\n",
       "      <td>11/16/90</td>\n",
       "      <td>4/27/98</td>\n",
       "    </tr>\n",
       "    <tr>\n",
       "      <th>499</th>\n",
       "      <td>994</td>\n",
       "      <td>6/3/93</td>\n",
       "      <td>6/13/93</td>\n",
       "    </tr>\n",
       "    <tr>\n",
       "      <th>500</th>\n",
       "      <td>997</td>\n",
       "      <td>1/4/90</td>\n",
       "      <td>10/3/91</td>\n",
       "    </tr>\n",
       "  </tbody>\n",
       "</table>\n",
       "<p>501 rows × 3 columns</p>\n",
       "</div>"
      ],
      "text/plain": [
       "      ID order_date delivery_date\n",
       "0      1    5/24/98        2/5/99\n",
       "1      2    4/22/92        3/6/98\n",
       "2      4    2/10/91       8/26/92\n",
       "3      5    7/21/92      11/20/97\n",
       "4      7     9/2/93       6/10/98\n",
       "..   ...        ...           ...\n",
       "496  990    6/24/91        2/2/96\n",
       "497  991     9/9/91       3/30/98\n",
       "498  993   11/16/90       4/27/98\n",
       "499  994     6/3/93       6/13/93\n",
       "500  997     1/4/90       10/3/91\n",
       "\n",
       "[501 rows x 3 columns]"
      ]
     },
     "execution_count": 114,
     "metadata": {},
     "output_type": "execute_result"
    }
   ],
   "source": [
    "pd.read_csv(\"ecommerce.csv\")"
   ]
  },
  {
   "cell_type": "code",
   "execution_count": 115,
   "metadata": {},
   "outputs": [
    {
     "name": "stdout",
     "output_type": "stream",
     "text": [
      "<class 'pandas.core.frame.DataFrame'>\n",
      "RangeIndex: 501 entries, 0 to 500\n",
      "Data columns (total 3 columns):\n",
      " #   Column         Non-Null Count  Dtype \n",
      "---  ------         --------------  ----- \n",
      " 0   ID             501 non-null    int64 \n",
      " 1   order_date     501 non-null    object\n",
      " 2   delivery_date  501 non-null    object\n",
      "dtypes: int64(1), object(2)\n",
      "memory usage: 11.9+ KB\n"
     ]
    }
   ],
   "source": [
    "# Preliminary review ofthe dataset shows we can assign orderID as the row index\n",
    "# As well as convert date columns to datetime objects\n",
    "pd.read_csv(\"ecommerce.csv\").info()"
   ]
  },
  {
   "cell_type": "code",
   "execution_count": 116,
   "metadata": {},
   "outputs": [
    {
     "name": "stdout",
     "output_type": "stream",
     "text": [
      "<class 'pandas.core.frame.DataFrame'>\n",
      "Index: 501 entries, 1 to 997\n",
      "Data columns (total 2 columns):\n",
      " #   Column         Non-Null Count  Dtype         \n",
      "---  ------         --------------  -----         \n",
      " 0   order_date     501 non-null    datetime64[ns]\n",
      " 1   delivery_date  501 non-null    datetime64[ns]\n",
      "dtypes: datetime64[ns](2)\n",
      "memory usage: 11.7 KB\n"
     ]
    }
   ],
   "source": [
    "ecom = pd.read_csv(\"ecommerce.csv\",index_col=\"ID\",parse_dates=[\"order_date\",\"delivery_date\"],date_format=\"%m/%d/%y\")\n",
    "ecom.info()"
   ]
  },
  {
   "cell_type": "code",
   "execution_count": 117,
   "metadata": {},
   "outputs": [
    {
     "data": {
      "text/html": [
       "<div>\n",
       "<style scoped>\n",
       "    .dataframe tbody tr th:only-of-type {\n",
       "        vertical-align: middle;\n",
       "    }\n",
       "\n",
       "    .dataframe tbody tr th {\n",
       "        vertical-align: top;\n",
       "    }\n",
       "\n",
       "    .dataframe thead th {\n",
       "        text-align: right;\n",
       "    }\n",
       "</style>\n",
       "<table border=\"1\" class=\"dataframe\">\n",
       "  <thead>\n",
       "    <tr style=\"text-align: right;\">\n",
       "      <th></th>\n",
       "      <th>order_date</th>\n",
       "      <th>delivery_date</th>\n",
       "    </tr>\n",
       "    <tr>\n",
       "      <th>ID</th>\n",
       "      <th></th>\n",
       "      <th></th>\n",
       "    </tr>\n",
       "  </thead>\n",
       "  <tbody>\n",
       "    <tr>\n",
       "      <th>1</th>\n",
       "      <td>1998-05-24</td>\n",
       "      <td>1999-02-05</td>\n",
       "    </tr>\n",
       "    <tr>\n",
       "      <th>2</th>\n",
       "      <td>1992-04-22</td>\n",
       "      <td>1998-03-06</td>\n",
       "    </tr>\n",
       "    <tr>\n",
       "      <th>4</th>\n",
       "      <td>1991-02-10</td>\n",
       "      <td>1992-08-26</td>\n",
       "    </tr>\n",
       "    <tr>\n",
       "      <th>5</th>\n",
       "      <td>1992-07-21</td>\n",
       "      <td>1997-11-20</td>\n",
       "    </tr>\n",
       "    <tr>\n",
       "      <th>7</th>\n",
       "      <td>1993-09-02</td>\n",
       "      <td>1998-06-10</td>\n",
       "    </tr>\n",
       "    <tr>\n",
       "      <th>...</th>\n",
       "      <td>...</td>\n",
       "      <td>...</td>\n",
       "    </tr>\n",
       "    <tr>\n",
       "      <th>990</th>\n",
       "      <td>1991-06-24</td>\n",
       "      <td>1996-02-02</td>\n",
       "    </tr>\n",
       "    <tr>\n",
       "      <th>991</th>\n",
       "      <td>1991-09-09</td>\n",
       "      <td>1998-03-30</td>\n",
       "    </tr>\n",
       "    <tr>\n",
       "      <th>993</th>\n",
       "      <td>1990-11-16</td>\n",
       "      <td>1998-04-27</td>\n",
       "    </tr>\n",
       "    <tr>\n",
       "      <th>994</th>\n",
       "      <td>1993-06-03</td>\n",
       "      <td>1993-06-13</td>\n",
       "    </tr>\n",
       "    <tr>\n",
       "      <th>997</th>\n",
       "      <td>1990-01-04</td>\n",
       "      <td>1991-10-03</td>\n",
       "    </tr>\n",
       "  </tbody>\n",
       "</table>\n",
       "<p>501 rows × 2 columns</p>\n",
       "</div>"
      ],
      "text/plain": [
       "    order_date delivery_date\n",
       "ID                          \n",
       "1   1998-05-24    1999-02-05\n",
       "2   1992-04-22    1998-03-06\n",
       "4   1991-02-10    1992-08-26\n",
       "5   1992-07-21    1997-11-20\n",
       "7   1993-09-02    1998-06-10\n",
       "..         ...           ...\n",
       "990 1991-06-24    1996-02-02\n",
       "991 1991-09-09    1998-03-30\n",
       "993 1990-11-16    1998-04-27\n",
       "994 1993-06-03    1993-06-13\n",
       "997 1990-01-04    1991-10-03\n",
       "\n",
       "[501 rows x 2 columns]"
      ]
     },
     "execution_count": 117,
     "metadata": {},
     "output_type": "execute_result"
    }
   ],
   "source": [
    "ecom"
   ]
  },
  {
   "cell_type": "markdown",
   "metadata": {},
   "source": [
    "#### First we see an example of just adding a new column that shows the delivery time delta."
   ]
  },
  {
   "cell_type": "code",
   "execution_count": 119,
   "metadata": {},
   "outputs": [
    {
     "data": {
      "text/html": [
       "<div>\n",
       "<style scoped>\n",
       "    .dataframe tbody tr th:only-of-type {\n",
       "        vertical-align: middle;\n",
       "    }\n",
       "\n",
       "    .dataframe tbody tr th {\n",
       "        vertical-align: top;\n",
       "    }\n",
       "\n",
       "    .dataframe thead th {\n",
       "        text-align: right;\n",
       "    }\n",
       "</style>\n",
       "<table border=\"1\" class=\"dataframe\">\n",
       "  <thead>\n",
       "    <tr style=\"text-align: right;\">\n",
       "      <th></th>\n",
       "      <th>order_date</th>\n",
       "      <th>delivery_date</th>\n",
       "      <th>delivery_delta</th>\n",
       "    </tr>\n",
       "    <tr>\n",
       "      <th>ID</th>\n",
       "      <th></th>\n",
       "      <th></th>\n",
       "      <th></th>\n",
       "    </tr>\n",
       "  </thead>\n",
       "  <tbody>\n",
       "    <tr>\n",
       "      <th>1</th>\n",
       "      <td>1998-05-24</td>\n",
       "      <td>1999-02-05</td>\n",
       "      <td>257 days</td>\n",
       "    </tr>\n",
       "    <tr>\n",
       "      <th>2</th>\n",
       "      <td>1992-04-22</td>\n",
       "      <td>1998-03-06</td>\n",
       "      <td>2144 days</td>\n",
       "    </tr>\n",
       "    <tr>\n",
       "      <th>4</th>\n",
       "      <td>1991-02-10</td>\n",
       "      <td>1992-08-26</td>\n",
       "      <td>563 days</td>\n",
       "    </tr>\n",
       "    <tr>\n",
       "      <th>5</th>\n",
       "      <td>1992-07-21</td>\n",
       "      <td>1997-11-20</td>\n",
       "      <td>1948 days</td>\n",
       "    </tr>\n",
       "    <tr>\n",
       "      <th>7</th>\n",
       "      <td>1993-09-02</td>\n",
       "      <td>1998-06-10</td>\n",
       "      <td>1742 days</td>\n",
       "    </tr>\n",
       "    <tr>\n",
       "      <th>...</th>\n",
       "      <td>...</td>\n",
       "      <td>...</td>\n",
       "      <td>...</td>\n",
       "    </tr>\n",
       "    <tr>\n",
       "      <th>990</th>\n",
       "      <td>1991-06-24</td>\n",
       "      <td>1996-02-02</td>\n",
       "      <td>1684 days</td>\n",
       "    </tr>\n",
       "    <tr>\n",
       "      <th>991</th>\n",
       "      <td>1991-09-09</td>\n",
       "      <td>1998-03-30</td>\n",
       "      <td>2394 days</td>\n",
       "    </tr>\n",
       "    <tr>\n",
       "      <th>993</th>\n",
       "      <td>1990-11-16</td>\n",
       "      <td>1998-04-27</td>\n",
       "      <td>2719 days</td>\n",
       "    </tr>\n",
       "    <tr>\n",
       "      <th>994</th>\n",
       "      <td>1993-06-03</td>\n",
       "      <td>1993-06-13</td>\n",
       "      <td>10 days</td>\n",
       "    </tr>\n",
       "    <tr>\n",
       "      <th>997</th>\n",
       "      <td>1990-01-04</td>\n",
       "      <td>1991-10-03</td>\n",
       "      <td>637 days</td>\n",
       "    </tr>\n",
       "  </tbody>\n",
       "</table>\n",
       "<p>501 rows × 3 columns</p>\n",
       "</div>"
      ],
      "text/plain": [
       "    order_date delivery_date delivery_delta\n",
       "ID                                         \n",
       "1   1998-05-24    1999-02-05       257 days\n",
       "2   1992-04-22    1998-03-06      2144 days\n",
       "4   1991-02-10    1992-08-26       563 days\n",
       "5   1992-07-21    1997-11-20      1948 days\n",
       "7   1993-09-02    1998-06-10      1742 days\n",
       "..         ...           ...            ...\n",
       "990 1991-06-24    1996-02-02      1684 days\n",
       "991 1991-09-09    1998-03-30      2394 days\n",
       "993 1990-11-16    1998-04-27      2719 days\n",
       "994 1993-06-03    1993-06-13        10 days\n",
       "997 1990-01-04    1991-10-03       637 days\n",
       "\n",
       "[501 rows x 3 columns]"
      ]
     },
     "execution_count": 119,
     "metadata": {},
     "output_type": "execute_result"
    }
   ],
   "source": [
    "ecom[\"delivery_date\"] - ecom[\"order_date\"]\n",
    "ecom[\"delivery_delta\"] = ecom[\"delivery_date\"] - ecom[\"order_date\"]\n",
    "ecom"
   ]
  },
  {
   "cell_type": "markdown",
   "metadata": {},
   "source": [
    "#### Next we'll see what would be the likely delivery date if it takes 1.5X times of the current delivery delta  "
   ]
  },
  {
   "cell_type": "code",
   "execution_count": 123,
   "metadata": {},
   "outputs": [
    {
     "data": {
      "text/html": [
       "<div>\n",
       "<style scoped>\n",
       "    .dataframe tbody tr th:only-of-type {\n",
       "        vertical-align: middle;\n",
       "    }\n",
       "\n",
       "    .dataframe tbody tr th {\n",
       "        vertical-align: top;\n",
       "    }\n",
       "\n",
       "    .dataframe thead th {\n",
       "        text-align: right;\n",
       "    }\n",
       "</style>\n",
       "<table border=\"1\" class=\"dataframe\">\n",
       "  <thead>\n",
       "    <tr style=\"text-align: right;\">\n",
       "      <th></th>\n",
       "      <th>order_date</th>\n",
       "      <th>delivery_date</th>\n",
       "      <th>delivery_delta</th>\n",
       "      <th>delivery_1.5x</th>\n",
       "    </tr>\n",
       "    <tr>\n",
       "      <th>ID</th>\n",
       "      <th></th>\n",
       "      <th></th>\n",
       "      <th></th>\n",
       "      <th></th>\n",
       "    </tr>\n",
       "  </thead>\n",
       "  <tbody>\n",
       "    <tr>\n",
       "      <th>1</th>\n",
       "      <td>1998-05-24</td>\n",
       "      <td>1999-02-05</td>\n",
       "      <td>257 days</td>\n",
       "      <td>2000-02-25 12:00:00</td>\n",
       "    </tr>\n",
       "    <tr>\n",
       "      <th>2</th>\n",
       "      <td>1992-04-22</td>\n",
       "      <td>1998-03-06</td>\n",
       "      <td>2144 days</td>\n",
       "      <td>2006-12-25 00:00:00</td>\n",
       "    </tr>\n",
       "    <tr>\n",
       "      <th>4</th>\n",
       "      <td>1991-02-10</td>\n",
       "      <td>1992-08-26</td>\n",
       "      <td>563 days</td>\n",
       "      <td>1994-12-18 12:00:00</td>\n",
       "    </tr>\n",
       "    <tr>\n",
       "      <th>5</th>\n",
       "      <td>1992-07-21</td>\n",
       "      <td>1997-11-20</td>\n",
       "      <td>1948 days</td>\n",
       "      <td>2005-11-20 00:00:00</td>\n",
       "    </tr>\n",
       "    <tr>\n",
       "      <th>7</th>\n",
       "      <td>1993-09-02</td>\n",
       "      <td>1998-06-10</td>\n",
       "      <td>1742 days</td>\n",
       "      <td>2005-08-05 00:00:00</td>\n",
       "    </tr>\n",
       "    <tr>\n",
       "      <th>...</th>\n",
       "      <td>...</td>\n",
       "      <td>...</td>\n",
       "      <td>...</td>\n",
       "      <td>...</td>\n",
       "    </tr>\n",
       "    <tr>\n",
       "      <th>990</th>\n",
       "      <td>1991-06-24</td>\n",
       "      <td>1996-02-02</td>\n",
       "      <td>1684 days</td>\n",
       "      <td>2003-01-02 00:00:00</td>\n",
       "    </tr>\n",
       "    <tr>\n",
       "      <th>991</th>\n",
       "      <td>1991-09-09</td>\n",
       "      <td>1998-03-30</td>\n",
       "      <td>2394 days</td>\n",
       "      <td>2008-01-28 00:00:00</td>\n",
       "    </tr>\n",
       "    <tr>\n",
       "      <th>993</th>\n",
       "      <td>1990-11-16</td>\n",
       "      <td>1998-04-27</td>\n",
       "      <td>2719 days</td>\n",
       "      <td>2009-06-26 12:00:00</td>\n",
       "    </tr>\n",
       "    <tr>\n",
       "      <th>994</th>\n",
       "      <td>1993-06-03</td>\n",
       "      <td>1993-06-13</td>\n",
       "      <td>10 days</td>\n",
       "      <td>1993-06-28 00:00:00</td>\n",
       "    </tr>\n",
       "    <tr>\n",
       "      <th>997</th>\n",
       "      <td>1990-01-04</td>\n",
       "      <td>1991-10-03</td>\n",
       "      <td>637 days</td>\n",
       "      <td>1994-05-15 12:00:00</td>\n",
       "    </tr>\n",
       "  </tbody>\n",
       "</table>\n",
       "<p>501 rows × 4 columns</p>\n",
       "</div>"
      ],
      "text/plain": [
       "    order_date delivery_date delivery_delta       delivery_1.5x\n",
       "ID                                                             \n",
       "1   1998-05-24    1999-02-05       257 days 2000-02-25 12:00:00\n",
       "2   1992-04-22    1998-03-06      2144 days 2006-12-25 00:00:00\n",
       "4   1991-02-10    1992-08-26       563 days 1994-12-18 12:00:00\n",
       "5   1992-07-21    1997-11-20      1948 days 2005-11-20 00:00:00\n",
       "7   1993-09-02    1998-06-10      1742 days 2005-08-05 00:00:00\n",
       "..         ...           ...            ...                 ...\n",
       "990 1991-06-24    1996-02-02      1684 days 2003-01-02 00:00:00\n",
       "991 1991-09-09    1998-03-30      2394 days 2008-01-28 00:00:00\n",
       "993 1990-11-16    1998-04-27      2719 days 2009-06-26 12:00:00\n",
       "994 1993-06-03    1993-06-13        10 days 1993-06-28 00:00:00\n",
       "997 1990-01-04    1991-10-03       637 days 1994-05-15 12:00:00\n",
       "\n",
       "[501 rows x 4 columns]"
      ]
     },
     "execution_count": 123,
     "metadata": {},
     "output_type": "execute_result"
    }
   ],
   "source": [
    "ecom[\"delivery_date\"] + (ecom[\"delivery_delta\"]*1.5)\n",
    "ecom[\"delivery_1.5x\"] = ecom[\"delivery_date\"] + (ecom[\"delivery_delta\"]*1.5)\n",
    "ecom"
   ]
  },
  {
   "cell_type": "markdown",
   "metadata": {},
   "source": [
    "##### Now we investigate the data that came with the original dataset as well as the added columns"
   ]
  },
  {
   "cell_type": "code",
   "execution_count": 124,
   "metadata": {},
   "outputs": [
    {
     "data": {
      "text/plain": [
       "Timedelta('3583 days 00:00:00')"
      ]
     },
     "execution_count": 124,
     "metadata": {},
     "output_type": "execute_result"
    }
   ],
   "source": [
    "# first up, obviously finding the one order that has longest timedelta\n",
    "ecom[\"delivery_delta\"].max()"
   ]
  },
  {
   "cell_type": "code",
   "execution_count": 128,
   "metadata": {},
   "outputs": [
    {
     "data": {
      "text/plain": [
       "Timedelta('1217 days 22:53:53.532934128')"
      ]
     },
     "execution_count": 128,
     "metadata": {},
     "output_type": "execute_result"
    }
   ],
   "source": [
    "ecom[\"delivery_delta\"].min()\n",
    "ecom[\"delivery_delta\"].mean()\n"
   ]
  },
  {
   "cell_type": "code",
   "execution_count": 136,
   "metadata": {},
   "outputs": [
    {
     "data": {
      "text/plain": [
       "ID\n",
       "898    8 days\n",
       "19     9 days\n",
       "612    9 days\n",
       "994   10 days\n",
       "310   16 days\n",
       "Name: delivery_delta, dtype: timedelta64[ns]"
      ]
     },
     "execution_count": 136,
     "metadata": {},
     "output_type": "execute_result"
    }
   ],
   "source": [
    "# top 5 orders with shortest delivery times\n",
    "ecom[\"delivery_delta\"].nsmallest(n=5)"
   ]
  },
  {
   "cell_type": "code",
   "execution_count": 141,
   "metadata": {},
   "outputs": [
    {
     "data": {
      "text/html": [
       "<div>\n",
       "<style scoped>\n",
       "    .dataframe tbody tr th:only-of-type {\n",
       "        vertical-align: middle;\n",
       "    }\n",
       "\n",
       "    .dataframe tbody tr th {\n",
       "        vertical-align: top;\n",
       "    }\n",
       "\n",
       "    .dataframe thead th {\n",
       "        text-align: right;\n",
       "    }\n",
       "</style>\n",
       "<table border=\"1\" class=\"dataframe\">\n",
       "  <thead>\n",
       "    <tr style=\"text-align: right;\">\n",
       "      <th></th>\n",
       "      <th>order_date</th>\n",
       "      <th>delivery_date</th>\n",
       "      <th>delivery_delta</th>\n",
       "      <th>delivery_1.5x</th>\n",
       "    </tr>\n",
       "    <tr>\n",
       "      <th>ID</th>\n",
       "      <th></th>\n",
       "      <th></th>\n",
       "      <th></th>\n",
       "      <th></th>\n",
       "    </tr>\n",
       "  </thead>\n",
       "  <tbody>\n",
       "    <tr>\n",
       "      <th>898</th>\n",
       "      <td>1990-05-24</td>\n",
       "      <td>1990-06-01</td>\n",
       "      <td>8 days</td>\n",
       "      <td>1990-06-13 00:00:00</td>\n",
       "    </tr>\n",
       "    <tr>\n",
       "      <th>19</th>\n",
       "      <td>1998-05-10</td>\n",
       "      <td>1998-05-19</td>\n",
       "      <td>9 days</td>\n",
       "      <td>1998-06-01 12:00:00</td>\n",
       "    </tr>\n",
       "    <tr>\n",
       "      <th>612</th>\n",
       "      <td>1994-08-11</td>\n",
       "      <td>1994-08-20</td>\n",
       "      <td>9 days</td>\n",
       "      <td>1994-09-02 12:00:00</td>\n",
       "    </tr>\n",
       "    <tr>\n",
       "      <th>994</th>\n",
       "      <td>1993-06-03</td>\n",
       "      <td>1993-06-13</td>\n",
       "      <td>10 days</td>\n",
       "      <td>1993-06-28 00:00:00</td>\n",
       "    </tr>\n",
       "    <tr>\n",
       "      <th>310</th>\n",
       "      <td>1997-09-20</td>\n",
       "      <td>1997-10-06</td>\n",
       "      <td>16 days</td>\n",
       "      <td>1997-10-30 00:00:00</td>\n",
       "    </tr>\n",
       "  </tbody>\n",
       "</table>\n",
       "</div>"
      ],
      "text/plain": [
       "    order_date delivery_date delivery_delta       delivery_1.5x\n",
       "ID                                                             \n",
       "898 1990-05-24    1990-06-01         8 days 1990-06-13 00:00:00\n",
       "19  1998-05-10    1998-05-19         9 days 1998-06-01 12:00:00\n",
       "612 1994-08-11    1994-08-20         9 days 1994-09-02 12:00:00\n",
       "994 1993-06-03    1993-06-13        10 days 1993-06-28 00:00:00\n",
       "310 1997-09-20    1997-10-06        16 days 1997-10-30 00:00:00"
      ]
     },
     "execution_count": 141,
     "metadata": {},
     "output_type": "execute_result"
    }
   ],
   "source": [
    "ecom.nsmallest(n=5,columns=\"delivery_delta\")"
   ]
  }
 ],
 "metadata": {
  "anaconda-cloud": {},
  "kernelspec": {
   "display_name": ".venv",
   "language": "python",
   "name": "python3"
  },
  "language_info": {
   "codemirror_mode": {
    "name": "ipython",
    "version": 3
   },
   "file_extension": ".py",
   "mimetype": "text/x-python",
   "name": "python",
   "nbconvert_exporter": "python",
   "pygments_lexer": "ipython3",
   "version": "3.13.1"
  }
 },
 "nbformat": 4,
 "nbformat_minor": 4
}
